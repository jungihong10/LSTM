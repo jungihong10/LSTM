{
  "nbformat": 4,
  "nbformat_minor": 0,
  "metadata": {
    "colab": {
      "provenance": [],
      "authorship_tag": "ABX9TyMP+ue7xalKTU1SNtbHQ/xC",
      "include_colab_link": true
    },
    "kernelspec": {
      "name": "python3",
      "display_name": "Python 3"
    },
    "language_info": {
      "name": "python"
    },
    "accelerator": "GPU",
    "gpuClass": "standard"
  },
  "cells": [
    {
      "cell_type": "markdown",
      "metadata": {
        "id": "view-in-github",
        "colab_type": "text"
      },
      "source": [
        "<a href=\"https://colab.research.google.com/github/jungihong10/LSTM_pineapples/blob/main/lstm_v4.ipynb\" target=\"_parent\"><img src=\"https://colab.research.google.com/assets/colab-badge.svg\" alt=\"Open In Colab\"/></a>"
      ]
    },
    {
      "cell_type": "code",
      "execution_count": null,
      "metadata": {
        "colab": {
          "base_uri": "https://localhost:8080/"
        },
        "id": "yR90UTu1MmYw",
        "outputId": "6cadec28-1ef2-40ad-8e8e-b9061cf73f54"
      },
      "outputs": [
        {
          "output_type": "stream",
          "name": "stdout",
          "text": [
            "Looking in indexes: https://pypi.org/simple, https://us-python.pkg.dev/colab-wheels/public/simple/\n",
            "Requirement already satisfied: tensorflow in /usr/local/lib/python3.10/dist-packages (2.12.0)\n",
            "Requirement already satisfied: tensorboard<2.13,>=2.12 in /usr/local/lib/python3.10/dist-packages (from tensorflow) (2.12.2)\n",
            "Requirement already satisfied: flatbuffers>=2.0 in /usr/local/lib/python3.10/dist-packages (from tensorflow) (23.3.3)\n",
            "Requirement already satisfied: typing-extensions>=3.6.6 in /usr/local/lib/python3.10/dist-packages (from tensorflow) (4.5.0)\n",
            "Requirement already satisfied: h5py>=2.9.0 in /usr/local/lib/python3.10/dist-packages (from tensorflow) (3.8.0)\n",
            "Requirement already satisfied: termcolor>=1.1.0 in /usr/local/lib/python3.10/dist-packages (from tensorflow) (2.3.0)\n",
            "Requirement already satisfied: numpy<1.24,>=1.22 in /usr/local/lib/python3.10/dist-packages (from tensorflow) (1.22.4)\n",
            "Requirement already satisfied: google-pasta>=0.1.1 in /usr/local/lib/python3.10/dist-packages (from tensorflow) (0.2.0)\n",
            "Requirement already satisfied: opt-einsum>=2.3.2 in /usr/local/lib/python3.10/dist-packages (from tensorflow) (3.3.0)\n",
            "Requirement already satisfied: tensorflow-io-gcs-filesystem>=0.23.1 in /usr/local/lib/python3.10/dist-packages (from tensorflow) (0.32.0)\n",
            "Requirement already satisfied: astunparse>=1.6.0 in /usr/local/lib/python3.10/dist-packages (from tensorflow) (1.6.3)\n",
            "Requirement already satisfied: wrapt<1.15,>=1.11.0 in /usr/local/lib/python3.10/dist-packages (from tensorflow) (1.14.1)\n",
            "Requirement already satisfied: keras<2.13,>=2.12.0 in /usr/local/lib/python3.10/dist-packages (from tensorflow) (2.12.0)\n",
            "Requirement already satisfied: absl-py>=1.0.0 in /usr/local/lib/python3.10/dist-packages (from tensorflow) (1.4.0)\n",
            "Requirement already satisfied: gast<=0.4.0,>=0.2.1 in /usr/local/lib/python3.10/dist-packages (from tensorflow) (0.4.0)\n",
            "Requirement already satisfied: setuptools in /usr/local/lib/python3.10/dist-packages (from tensorflow) (67.7.2)\n",
            "Requirement already satisfied: jax>=0.3.15 in /usr/local/lib/python3.10/dist-packages (from tensorflow) (0.4.8)\n",
            "Requirement already satisfied: tensorflow-estimator<2.13,>=2.12.0 in /usr/local/lib/python3.10/dist-packages (from tensorflow) (2.12.0)\n",
            "Requirement already satisfied: grpcio<2.0,>=1.24.3 in /usr/local/lib/python3.10/dist-packages (from tensorflow) (1.54.0)\n",
            "Requirement already satisfied: packaging in /usr/local/lib/python3.10/dist-packages (from tensorflow) (23.1)\n",
            "Requirement already satisfied: six>=1.12.0 in /usr/local/lib/python3.10/dist-packages (from tensorflow) (1.16.0)\n",
            "Requirement already satisfied: libclang>=13.0.0 in /usr/local/lib/python3.10/dist-packages (from tensorflow) (16.0.0)\n",
            "Requirement already satisfied: protobuf!=4.21.0,!=4.21.1,!=4.21.2,!=4.21.3,!=4.21.4,!=4.21.5,<5.0.0dev,>=3.20.3 in /usr/local/lib/python3.10/dist-packages (from tensorflow) (3.20.3)\n",
            "Requirement already satisfied: wheel<1.0,>=0.23.0 in /usr/local/lib/python3.10/dist-packages (from astunparse>=1.6.0->tensorflow) (0.40.0)\n",
            "Requirement already satisfied: scipy>=1.7 in /usr/local/lib/python3.10/dist-packages (from jax>=0.3.15->tensorflow) (1.10.1)\n",
            "Requirement already satisfied: ml-dtypes>=0.0.3 in /usr/local/lib/python3.10/dist-packages (from jax>=0.3.15->tensorflow) (0.1.0)\n",
            "Requirement already satisfied: werkzeug>=1.0.1 in /usr/local/lib/python3.10/dist-packages (from tensorboard<2.13,>=2.12->tensorflow) (2.3.0)\n",
            "Requirement already satisfied: tensorboard-plugin-wit>=1.6.0 in /usr/local/lib/python3.10/dist-packages (from tensorboard<2.13,>=2.12->tensorflow) (1.8.1)\n",
            "Requirement already satisfied: google-auth<3,>=1.6.3 in /usr/local/lib/python3.10/dist-packages (from tensorboard<2.13,>=2.12->tensorflow) (2.17.3)\n",
            "Requirement already satisfied: markdown>=2.6.8 in /usr/local/lib/python3.10/dist-packages (from tensorboard<2.13,>=2.12->tensorflow) (3.4.3)\n",
            "Requirement already satisfied: requests<3,>=2.21.0 in /usr/local/lib/python3.10/dist-packages (from tensorboard<2.13,>=2.12->tensorflow) (2.27.1)\n",
            "Requirement already satisfied: google-auth-oauthlib<1.1,>=0.5 in /usr/local/lib/python3.10/dist-packages (from tensorboard<2.13,>=2.12->tensorflow) (1.0.0)\n",
            "Requirement already satisfied: tensorboard-data-server<0.8.0,>=0.7.0 in /usr/local/lib/python3.10/dist-packages (from tensorboard<2.13,>=2.12->tensorflow) (0.7.0)\n",
            "Requirement already satisfied: pyasn1-modules>=0.2.1 in /usr/local/lib/python3.10/dist-packages (from google-auth<3,>=1.6.3->tensorboard<2.13,>=2.12->tensorflow) (0.3.0)\n",
            "Requirement already satisfied: cachetools<6.0,>=2.0.0 in /usr/local/lib/python3.10/dist-packages (from google-auth<3,>=1.6.3->tensorboard<2.13,>=2.12->tensorflow) (5.3.0)\n",
            "Requirement already satisfied: rsa<5,>=3.1.4 in /usr/local/lib/python3.10/dist-packages (from google-auth<3,>=1.6.3->tensorboard<2.13,>=2.12->tensorflow) (4.9)\n",
            "Requirement already satisfied: requests-oauthlib>=0.7.0 in /usr/local/lib/python3.10/dist-packages (from google-auth-oauthlib<1.1,>=0.5->tensorboard<2.13,>=2.12->tensorflow) (1.3.1)\n",
            "Requirement already satisfied: certifi>=2017.4.17 in /usr/local/lib/python3.10/dist-packages (from requests<3,>=2.21.0->tensorboard<2.13,>=2.12->tensorflow) (2022.12.7)\n",
            "Requirement already satisfied: idna<4,>=2.5 in /usr/local/lib/python3.10/dist-packages (from requests<3,>=2.21.0->tensorboard<2.13,>=2.12->tensorflow) (3.4)\n",
            "Requirement already satisfied: urllib3<1.27,>=1.21.1 in /usr/local/lib/python3.10/dist-packages (from requests<3,>=2.21.0->tensorboard<2.13,>=2.12->tensorflow) (1.26.15)\n",
            "Requirement already satisfied: charset-normalizer~=2.0.0 in /usr/local/lib/python3.10/dist-packages (from requests<3,>=2.21.0->tensorboard<2.13,>=2.12->tensorflow) (2.0.12)\n",
            "Requirement already satisfied: MarkupSafe>=2.1.1 in /usr/local/lib/python3.10/dist-packages (from werkzeug>=1.0.1->tensorboard<2.13,>=2.12->tensorflow) (2.1.2)\n",
            "Requirement already satisfied: pyasn1<0.6.0,>=0.4.6 in /usr/local/lib/python3.10/dist-packages (from pyasn1-modules>=0.2.1->google-auth<3,>=1.6.3->tensorboard<2.13,>=2.12->tensorflow) (0.5.0)\n",
            "Requirement already satisfied: oauthlib>=3.0.0 in /usr/local/lib/python3.10/dist-packages (from requests-oauthlib>=0.7.0->google-auth-oauthlib<1.1,>=0.5->tensorboard<2.13,>=2.12->tensorflow) (3.2.2)\n"
          ]
        }
      ],
      "source": [
        "!pip install tensorflow"
      ]
    },
    {
      "cell_type": "code",
      "source": [
        "import os\n",
        "\n",
        "import numpy as np\n",
        "import pandas as pd\n",
        "import tensorflow as tf\n",
        "from sklearn.model_selection import train_test_split\n",
        "from sklearn.preprocessing import MinMaxScaler\n",
        "from keras.models import Sequential\n",
        "from keras.layers import Dense, LSTM, Dropout\n",
        "from keras.optimizers import Adam\n",
        "from keras.callbacks import EarlyStopping\n",
        "\n",
        "import matplotlib.pyplot as plt\n",
        "from sklearn.metrics import confusion_matrix\n",
        "import seaborn as sns\n",
        "import random\n",
        "import csv"
      ],
      "metadata": {
        "id": "j4Nq9uAXMrsD"
      },
      "execution_count": 1,
      "outputs": []
    },
    {
      "cell_type": "code",
      "source": [
        "from google.colab import drive\n",
        "drive.mount('/content/drive')"
      ],
      "metadata": {
        "colab": {
          "base_uri": "https://localhost:8080/"
        },
        "id": "2MFoQ85lMtQc",
        "outputId": "a25823a2-2298-48e1-8d30-905e5d628101"
      },
      "execution_count": 2,
      "outputs": [
        {
          "output_type": "stream",
          "name": "stdout",
          "text": [
            "Mounted at /content/drive\n"
          ]
        }
      ]
    },
    {
      "cell_type": "markdown",
      "source": [
        "The data is already preprocessed\n",
        "\n",
        "*   removed unused Co2 (avg, max, min) columns\n",
        "*   check for empty values\n",
        "*   check for odd values (too big/too small)\n",
        "\n"
      ],
      "metadata": {
        "id": "7lTbj4CWEpsz"
      }
    },
    {
      "cell_type": "code",
      "source": [
        "healthy_folder = '/content/drive/MyDrive/n_dataprepro/'\n",
        "diseased_folder = '/content/drive/MyDrive/d_dataprepro/'\n"
      ],
      "metadata": {
        "id": "1laaK7VHa2h_"
      },
      "execution_count": 3,
      "outputs": []
    },
    {
      "cell_type": "markdown",
      "source": [
        "split the datafram into chunks of 200 rows each and then export each group of 200 rows as a single csv."
      ],
      "metadata": {
        "id": "C_UEtsYcEhTH"
      }
    },
    {
      "cell_type": "code",
      "source": [
        "from sklearn.preprocessing import MinMaxScaler\n",
        "from sklearn.model_selection import train_test_split\n",
        "import os\n",
        "import pandas as pd\n",
        "import numpy as np\n",
        "from keras.models import Sequential\n",
        "from keras.layers import LSTM, Dropout, Dense\n",
        "from keras.callbacks import EarlyStopping\n",
        "import random\n",
        "\n",
        "\n",
        "def create_sequences_from_list(data_list, seq_length):\n",
        "    sequences = []\n",
        "    labels = []\n",
        "\n",
        "    for data in data_list:\n",
        "        unscaled_labels = data[:, -1]  # Store the original labels before scaling\n",
        "        #scaled_data = scaler.fit_transform(data)\n",
        "        #sequences.append(scaled_data[:seq_length, :-1])\n",
        "        sequences.append(data[:seq_length, :-1])\n",
        "\n",
        "        labels.append(unscaled_labels[0])  # Use the original unscaled label\n",
        "\n",
        "    return np.array(sequences), np.array(labels)\n",
        "\n",
        "\n",
        "# Modify the read_csv_files function to read and return both the file name and data\n",
        "def read_csv_files(folder_path, label, max_samples=None):\n",
        "    data_list = []\n",
        "    file_list = []\n",
        "    for file in os.listdir(folder_path):\n",
        "        file_path = os.path.join(folder_path, file)\n",
        "        df = pd.read_csv(file_path)\n",
        "        if len(df) >= 200:  # Filter out files with less than 200 readings\n",
        "            df[\"label\"] = label\n",
        "            data_list.append(df.values[:200, :])  # Truncate to 200 rows and convert DataFrame to NumPy array\n",
        "            file_list.append(file)\n",
        "    \n",
        "    if max_samples is not None and len(data_list) > max_samples:\n",
        "        data_list, file_list = zip(*random.sample(list(zip(data_list, file_list)), max_samples))\n",
        "\n",
        "    return list(data_list), list(file_list)\n",
        "\n",
        "\n",
        "\n",
        "healthy_folder = '/content/drive/MyDrive/n_dataprepro/'\n",
        "diseased_folder = '/content/drive/MyDrive/d_dataprepro/'\n",
        "\n",
        "\n",
        "\n",
        "# Read and label the CSV files\n",
        "diseased_data_list, diseased_file_list = read_csv_files(diseased_folder, 1)\n",
        "num_diseased_samples = len(diseased_data_list)\n",
        "healthy_data_list, healthy_file_list = read_csv_files(healthy_folder, 0, max_samples=num_diseased_samples)\n",
        "\n",
        "all_data_list = healthy_data_list + diseased_data_list\n",
        "all_file_list = healthy_file_list + diseased_file_list\n",
        "\n",
        "# Split the data into train and test sets based on the file list\n",
        "train_file_list, test_file_list, train_data_list, test_data_list = train_test_split(\n",
        "    all_file_list, all_data_list, test_size=0.2, random_state=42\n",
        ")\n",
        "\n",
        "# Shuffle the train and test data lists\n",
        "random.shuffle(train_data_list)\n",
        "random.shuffle(test_data_list)\n",
        "\n",
        "# Create sequences\n",
        "seq_length = 200\n",
        "\n",
        "X_train, y_train = create_sequences_from_list(train_data_list, seq_length)\n",
        "X_test, y_test = create_sequences_from_list(test_data_list, seq_length)\n"
      ],
      "metadata": {
        "id": "avevEpOxJXwc"
      },
      "execution_count": 5,
      "outputs": []
    },
    {
      "cell_type": "code",
      "source": [
        "\n",
        "# Create the LSTM model\n",
        "model = Sequential()\n",
        "model.add(LSTM(50, input_shape=(X_train.shape[1], X_train.shape[2]), return_sequences=True))\n",
        "model.add(Dropout(0.2))\n",
        "model.add(LSTM(50))\n",
        "model.add(Dropout(0.2))\n",
        "model.add(Dense(1, activation='sigmoid'))\n",
        "\n",
        "# Compile the model\n",
        "model.compile(optimizer='adam', loss='binary_crossentropy', metrics=['accuracy'])\n",
        "\n",
        "# Train the model\n",
        "early_stopping = EarlyStopping(monitor='val_loss', patience=5)\n",
        "history = model.fit(X_train, y_train, validation_split=0.2, epochs=10, batch_size=32, callbacks=[early_stopping])\n",
        "\n",
        "# Evaluate the model\n",
        "loss, accuracy = model.evaluate(X_test, y_test)\n",
        "print(\"Test loss:\", loss)\n",
        "print(\"Test accuracy:\", accuracy)"
      ],
      "metadata": {
        "id": "raOGNY3KGybm",
        "colab": {
          "base_uri": "https://localhost:8080/"
        },
        "outputId": "530fc939-f994-4bdc-a24e-9dcafddd131e"
      },
      "execution_count": 6,
      "outputs": [
        {
          "output_type": "stream",
          "name": "stdout",
          "text": [
            "Epoch 1/10\n",
            "184/184 [==============================] - 14s 22ms/step - loss: 0.1682 - accuracy: 0.9501 - val_loss: 0.0918 - val_accuracy: 0.9523\n",
            "Epoch 2/10\n",
            "184/184 [==============================] - 4s 20ms/step - loss: 0.0979 - accuracy: 0.9671 - val_loss: 0.0135 - val_accuracy: 0.9980\n",
            "Epoch 3/10\n",
            "184/184 [==============================] - 3s 17ms/step - loss: 0.0058 - accuracy: 0.9995 - val_loss: 0.0015 - val_accuracy: 1.0000\n",
            "Epoch 4/10\n",
            "184/184 [==============================] - 3s 15ms/step - loss: 0.1135 - accuracy: 0.9693 - val_loss: 0.0103 - val_accuracy: 0.9980\n",
            "Epoch 5/10\n",
            "184/184 [==============================] - 3s 15ms/step - loss: 0.0235 - accuracy: 0.9952 - val_loss: 0.0157 - val_accuracy: 0.9980\n",
            "Epoch 6/10\n",
            "184/184 [==============================] - 3s 15ms/step - loss: 0.0147 - accuracy: 0.9973 - val_loss: 0.0031 - val_accuracy: 1.0000\n",
            "Epoch 7/10\n",
            "184/184 [==============================] - 4s 21ms/step - loss: 0.0017 - accuracy: 1.0000 - val_loss: 5.8186e-04 - val_accuracy: 1.0000\n",
            "Epoch 8/10\n",
            "184/184 [==============================] - 3s 15ms/step - loss: 0.0449 - accuracy: 0.9860 - val_loss: 0.1777 - val_accuracy: 0.9537\n",
            "Epoch 9/10\n",
            "184/184 [==============================] - 3s 15ms/step - loss: 0.0760 - accuracy: 0.9739 - val_loss: 0.0350 - val_accuracy: 0.9850\n",
            "Epoch 10/10\n",
            "184/184 [==============================] - 3s 15ms/step - loss: 0.0072 - accuracy: 0.9981 - val_loss: 0.0110 - val_accuracy: 0.9980\n",
            "58/58 [==============================] - 1s 9ms/step - loss: 0.0090 - accuracy: 0.9984\n",
            "Test loss: 0.00895765982568264\n",
            "Test accuracy: 0.9983642101287842\n"
          ]
        }
      ]
    },
    {
      "cell_type": "code",
      "source": [
        "print(\"X shape:\", X_train.shape)\n",
        "print(\"y shape:\", y_train.shape)\n"
      ],
      "metadata": {
        "colab": {
          "base_uri": "https://localhost:8080/"
        },
        "id": "11H9ulptNfaq",
        "outputId": "326ddfe3-4f6f-4a14-a38b-4957a630d82b"
      },
      "execution_count": 7,
      "outputs": [
        {
          "output_type": "stream",
          "name": "stdout",
          "text": [
            "X shape: (7336, 200, 9)\n",
            "y shape: (7336,)\n"
          ]
        }
      ]
    },
    {
      "cell_type": "code",
      "source": [
        "print(\"X_train shape:\", X_train)\n"
      ],
      "metadata": {
        "colab": {
          "base_uri": "https://localhost:8080/"
        },
        "id": "tUET60ZRKRRi",
        "outputId": "95efc1b5-77a6-4340-c864-4a8e1ef0223e"
      },
      "execution_count": 8,
      "outputs": [
        {
          "output_type": "stream",
          "name": "stdout",
          "text": [
            "X_train shape: [[[16.3 16.9 15.3 ... 14.2 16.1 11.2]\n",
            "  [16.3 16.7 15.9 ... 14.7 16.1 13.3]\n",
            "  [16.2 16.3 16.1 ... 15.  15.2 14.7]\n",
            "  ...\n",
            "  [14.6 15.1 13.5 ... 13.1 13.4 12.8]\n",
            "  [14.2 15.1 13.6 ... 13.  13.2 12.8]\n",
            "  [14.3 15.2 13.7 ... 12.9 13.1 12.8]]\n",
            "\n",
            " [[29.8 29.9 29.6 ... 16.8 17.1 16.4]\n",
            "  [29.4 29.8 29.1 ... 15.6 15.9 15.2]\n",
            "  [29.4 29.8 29.1 ... 15.7 17.1 14.8]\n",
            "  ...\n",
            "  [26.4 26.6 26.3 ... 15.7 16.6 14.8]\n",
            "  [26.7 27.1 26.3 ... 15.5 16.  14.8]\n",
            "  [26.8 27.  26.6 ... 15.6 16.  15.1]]\n",
            "\n",
            " [[24.  24.8 23.6 ... 16.8 18.7 15.3]\n",
            "  [24.3 24.7 23.9 ... 16.3 18.9 15. ]\n",
            "  [24.3 24.6 23.6 ... 19.1 20.4 18.2]\n",
            "  ...\n",
            "  [12.6 20.   9.  ...  9.6 14.6  6.9]\n",
            "  [12.3 20.3  8.9 ...  9.8 14.8  7.5]\n",
            "  [14.9 20.4  8.7 ... 11.5 14.8  7.6]]\n",
            "\n",
            " ...\n",
            "\n",
            " [[23.6 27.7 22.1 ... 12.5 22.7  8.9]\n",
            "  [25.9 27.6 21.8 ... 19.4 22.5 10.5]\n",
            "  [24.7 27.4 21.2 ... 16.8 21.8  9.6]\n",
            "  ...\n",
            "  [13.  13.2 12.9 ... 12.2 12.2 12.1]\n",
            "  [15.1 19.4 12.3 ... 12.7 14.1  9.6]\n",
            "  [13.9 14.3 13.6 ... 12.9 13.1 12.9]]\n",
            "\n",
            " [[24.5 24.9 23.8 ... 17.2 20.4 15.4]\n",
            "  [23.9 24.8 23.1 ... 18.5 19.6 18. ]\n",
            "  [22.2 23.1 21.  ... 17.6 18.4 16.6]\n",
            "  ...\n",
            "  [13.2 19.2 12.  ...  7.4 11.1  6.2]\n",
            "  [12.5 13.2 11.5 ...  7.3  7.7  6.9]\n",
            "  [10.5 11.4 10.1 ...  6.9  7.5  6.4]]\n",
            "\n",
            " [[30.3 31.3 29.6 ... 13.5 14.6 12.5]\n",
            "  [34.4 37.1 31.8 ... 16.8 23.1 12.8]\n",
            "  [37.8 38.2 37.3 ... 31.7 33.2 27.1]\n",
            "  ...\n",
            "  [14.1 14.1 14.  ... 13.6 13.6 13.6]\n",
            "  [14.1 14.2 14.1 ... 13.6 13.6 13.6]\n",
            "  [14.1 14.2 14.1 ... 13.6 13.6 13.6]]]\n"
          ]
        }
      ]
    },
    {
      "cell_type": "code",
      "source": [
        "print(\"y_train shape:\", y_train)\n"
      ],
      "metadata": {
        "colab": {
          "base_uri": "https://localhost:8080/"
        },
        "id": "WfExHcWbOeS7",
        "outputId": "d669af6f-2607-4505-ba0f-5871b8babd9f"
      },
      "execution_count": 9,
      "outputs": [
        {
          "output_type": "stream",
          "name": "stdout",
          "text": [
            "y_train shape: [0. 1. 0. ... 0. 0. 1.]\n"
          ]
        }
      ]
    },
    {
      "cell_type": "code",
      "source": [
        "print(\"X_test shape:\", X_test)\n"
      ],
      "metadata": {
        "colab": {
          "base_uri": "https://localhost:8080/"
        },
        "id": "YPp3i7O9-lWc",
        "outputId": "054f6564-29d5-4acc-c9ca-17041080ba2b"
      },
      "execution_count": 10,
      "outputs": [
        {
          "output_type": "stream",
          "name": "stdout",
          "text": [
            "X_test shape: [[[20.9 21.4 20.4 ... 19.4 20.  18. ]\n",
            "  [20.4 20.6 20.2 ... 18.  18.6 17.6]\n",
            "  [21.  21.6 20.7 ... 16.6 17.6 15.8]\n",
            "  ...\n",
            "  [16.5 16.5 16.5 ... 16.2 16.2 16.1]\n",
            "  [16.7 16.8 16.6 ... 16.2 16.2 16.1]\n",
            "  [16.8 16.8 16.6 ... 16.4 16.4 16.2]]\n",
            "\n",
            " [[22.  22.1 21.9 ... 14.8 15.2 14.4]\n",
            "  [21.9 22.1 21.6 ... 13.9 14.2 13.4]\n",
            "  [21.4 21.7 21.1 ... 12.3 13.4 11.4]\n",
            "  ...\n",
            "  [ 9.2  9.3  9.1 ...  8.6  8.6  8.6]\n",
            "  [ 9.   9.1  8.9 ...  8.5  8.6  8.4]\n",
            "  [ 8.9  9.   8.9 ...  8.6  8.6  8.6]]\n",
            "\n",
            " [[23.6 27.7 22.1 ... 12.5 22.7  8.9]\n",
            "  [25.9 27.6 21.8 ... 19.4 22.5 10.5]\n",
            "  [24.7 27.4 21.2 ... 16.8 21.8  9.6]\n",
            "  ...\n",
            "  [13.  13.2 12.9 ... 12.2 12.2 12.1]\n",
            "  [15.1 19.4 12.3 ... 12.7 14.1  9.6]\n",
            "  [13.9 14.3 13.6 ... 12.9 13.1 12.9]]\n",
            "\n",
            " ...\n",
            "\n",
            " [[23.6 27.7 22.1 ... 12.5 22.7  8.9]\n",
            "  [25.9 27.6 21.8 ... 19.4 22.5 10.5]\n",
            "  [24.7 27.4 21.2 ... 16.8 21.8  9.6]\n",
            "  ...\n",
            "  [13.  13.2 12.9 ... 12.2 12.2 12.1]\n",
            "  [15.1 19.4 12.3 ... 12.7 14.1  9.6]\n",
            "  [13.9 14.3 13.6 ... 12.9 13.1 12.9]]\n",
            "\n",
            " [[25.5 26.4 21.9 ... 16.9 17.9 14.2]\n",
            "  [24.9 25.9 22.2 ... 17.  17.9 14.7]\n",
            "  [24.5 25.7 22.1 ... 17.2 17.4 16.7]\n",
            "  ...\n",
            "  [14.2 14.2 14.2 ... 12.9 12.9 12.9]\n",
            "  [12.8 12.8 12.8 ... 11.3 11.3 11.3]\n",
            "  [14.4 14.4 14.4 ... 12.9 12.9 12.9]]\n",
            "\n",
            " [[12.3 12.6 12.1 ... 10.4 11.1 10.1]\n",
            "  [13.2 13.6 12.7 ... 11.1 11.9 10.9]\n",
            "  [14.1 14.6 13.8 ... 11.8 12.5 11.6]\n",
            "  ...\n",
            "  [ 2.1  2.1  2.1 ...  1.6  1.6  1.6]\n",
            "  [ 2.1  2.3  2.1 ...  1.6  1.6  1.6]\n",
            "  [ 2.2  2.3  2.2 ...  1.6  1.6  1.6]]]\n"
          ]
        }
      ]
    },
    {
      "cell_type": "code",
      "source": [
        "print(\"y_test shape:\", y_test)\n"
      ],
      "metadata": {
        "colab": {
          "base_uri": "https://localhost:8080/"
        },
        "id": "xjoUSgr3-fPS",
        "outputId": "7cc6bbc3-ece0-4e58-8f83-90ab9b1ca3d4"
      },
      "execution_count": 11,
      "outputs": [
        {
          "output_type": "stream",
          "name": "stdout",
          "text": [
            "y_test shape: [0. 1. 0. ... 0. 0. 1.]\n"
          ]
        }
      ]
    },
    {
      "cell_type": "code",
      "source": [
        "from sklearn.metrics import confusion_matrix\n",
        "import matplotlib.pyplot as plt\n",
        "\n",
        "# Predict on test data\n",
        "y_pred = model.predict(X_test)\n",
        "y_pred = (y_pred > 0.5)\n",
        "\n",
        "# Calculate confusion matrix\n",
        "cm = confusion_matrix(y_test, y_pred)\n",
        "\n",
        "# Define class names\n",
        "class_names = ['Diseased', 'Healthy']\n",
        "\n",
        "# Plot confusion matrix\n",
        "plt.imshow(cm, cmap=plt.cm.Blues)\n",
        "plt.title('Confusion Matrix')\n",
        "plt.colorbar()\n",
        "tick_marks = np.arange(len(class_names))\n",
        "plt.xticks(tick_marks, class_names, rotation=45)\n",
        "plt.yticks(tick_marks, class_names)\n",
        "plt.xlabel('Predicted')\n",
        "plt.ylabel('True')\n",
        "plt.tight_layout()\n",
        "for i in range(len(class_names)):\n",
        "    for j in range(len(class_names)):\n",
        "        plt.text(j, i, format(cm[i, j], 'd'), horizontalalignment=\"center\", color=\"white\" if cm[i, j] > (cm.max() / 2) else \"black\")\n",
        "plt.show()\n"
      ],
      "metadata": {
        "colab": {
          "base_uri": "https://localhost:8080/",
          "height": 505
        },
        "id": "JX0KO7r9PAxc",
        "outputId": "c5a4a33d-0ecd-4dd0-9d28-c82b817651c3"
      },
      "execution_count": 12,
      "outputs": [
        {
          "output_type": "stream",
          "name": "stdout",
          "text": [
            "58/58 [==============================] - 1s 8ms/step\n"
          ]
        },
        {
          "output_type": "display_data",
          "data": {
            "text/plain": [
              "<Figure size 640x480 with 2 Axes>"
            ],
            "image/png": "[encoded data removed]"
          },
          "metadata": {}
        }
      ]
    },
    {
      "cell_type": "code",
      "source": [
        "from sklearn.metrics import precision_recall_fscore_support\n",
        "\n",
        "# Predict on test data\n",
        "y_pred = model.predict(X_test)\n",
        "y_pred = (y_pred > 0.5)\n",
        "\n",
        "# Calculate precision, recall, F1-score, and support\n",
        "precision, recall, f1_score, support = precision_recall_fscore_support(y_test, y_pred)\n",
        "\n",
        "# Print the results\n",
        "print('Precision:', precision)\n",
        "print('Recall:', recall)\n",
        "print('F1-score:', f1_score)\n",
        "print('Support:', support)\n"
      ],
      "metadata": {
        "colab": {
          "base_uri": "https://localhost:8080/"
        },
        "id": "HDwRYE8TPsfQ",
        "outputId": "152e9fb5-726b-41e5-9d60-87561783f365"
      },
      "execution_count": 13,
      "outputs": [
        {
          "output_type": "stream",
          "name": "stdout",
          "text": [
            "58/58 [==============================] - 0s 8ms/step\n",
            "Precision: [1.         0.99674973]\n",
            "Recall: [0.99671772 1.        ]\n",
            "F1-score: [0.99835616 0.99837222]\n",
            "Support: [914 920]\n"
          ]
        }
      ]
    },
    {
      "cell_type": "markdown",
      "source": [
        "Testing the model out using separate test cases."
      ],
      "metadata": {
        "id": "wE-uSnlSM9SR"
      }
    },
    {
      "cell_type": "code",
      "source": [
        "def preprocess_single_file(file_path, seq_length):\n",
        "    df = pd.read_csv(file_path)\n",
        "    df[\"label\"] = 0  # Add a dummy label column\n",
        "    data = df.values[:seq_length, :]  # Truncate to seq_length rows if needed\n",
        "    #scaled_data = scaler.transform(data)\n",
        "    #X = np.array([scaled_data[:, :-1]])  # Create a 3D array with just one sample\n",
        "    X = np.array([data[:, :-1]])  # Create a 3D array with just one sample\n",
        "\n",
        "    return X\n",
        "\n",
        "def status(x):\n",
        "    if x > 0.5:\n",
        "        print(\"Unhealthy\")\n",
        "    else:\n",
        "        print(\"Healthy\")\n",
        "# Example usage:\n",
        "\n",
        "sample_file_path = \"/content/drive/MyDrive/d_data_test/preprocessed_d_605916.csv\"\n",
        "seq_length = 200\n",
        "\n",
        "X_sample = preprocess_single_file(sample_file_path, seq_length)\n",
        "\n",
        "# Predict on the sample file\n",
        "y_sample_pred = model.predict(X_sample)\n",
        "print(y_sample_pred[0])\n",
        "\n",
        "# Print the result\n",
        "status(y_sample_pred[0])\n",
        "\n",
        "\n",
        "\n"
      ],
      "metadata": {
        "colab": {
          "base_uri": "https://localhost:8080/"
        },
        "id": "OBRcWPFcGKuB",
        "outputId": "077b627b-4feb-484f-c8af-09e0b1120c10"
      },
      "execution_count": 14,
      "outputs": [
        {
          "output_type": "stream",
          "name": "stdout",
          "text": [
            "1/1 [==============================] - 0s 32ms/step\n",
            "[0.9983211]\n",
            "Unhealthy\n"
          ]
        }
      ]
    },
    {
      "cell_type": "code",
      "source": [
        "# Example usage:\n",
        "\n",
        "sample_file_path = \"/content/drive/MyDrive/n_data_test/preprocessed_n_851866.csv\"\n",
        "seq_length = 200\n",
        "\n",
        "X_sample = preprocess_single_file(sample_file_path, seq_length)\n",
        "\n",
        "# Predict on the sample file\n",
        "y_sample_pred = model.predict(X_sample)\n",
        "\n",
        "# Print the result\n",
        "print(y_sample_pred[0])\n",
        "\n",
        "status(y_sample_pred[0])\n",
        "\n",
        "\n"
      ],
      "metadata": {
        "colab": {
          "base_uri": "https://localhost:8080/"
        },
        "id": "R2-Q3AhPHQqp",
        "outputId": "d0d01544-171e-4087-c4b5-5d5cae7ca01e"
      },
      "execution_count": 15,
      "outputs": [
        {
          "output_type": "stream",
          "name": "stdout",
          "text": [
            "1/1 [==============================] - 0s 22ms/step\n",
            "[0.00046575]\n",
            "Healthy\n"
          ]
        }
      ]
    },
    {
      "cell_type": "code",
      "source": [
        "print(model.summary())"
      ],
      "metadata": {
        "colab": {
          "base_uri": "https://localhost:8080/"
        },
        "id": "Qe2XHarUveR_",
        "outputId": "25362fcc-7fd3-4cff-b93f-e57bcaff99a4"
      },
      "execution_count": 16,
      "outputs": [
        {
          "output_type": "stream",
          "name": "stdout",
          "text": [
            "Model: \"sequential\"\n",
            "_________________________________________________________________\n",
            " Layer (type)                Output Shape              Param #   \n",
            "=================================================================\n",
            " lstm (LSTM)                 (None, 200, 50)           12000     \n",
            "                                                                 \n",
            " dropout (Dropout)           (None, 200, 50)           0         \n",
            "                                                                 \n",
            " lstm_1 (LSTM)               (None, 50)                20200     \n",
            "                                                                 \n",
            " dropout_1 (Dropout)         (None, 50)                0         \n",
            "                                                                 \n",
            " dense (Dense)               (None, 1)                 51        \n",
            "                                                                 \n",
            "=================================================================\n",
            "Total params: 32,251\n",
            "Trainable params: 32,251\n",
            "Non-trainable params: 0\n",
            "_________________________________________________________________\n",
            "None\n"
          ]
        }
      ]
    },
    {
      "cell_type": "code",
      "source": [
        "# Check class distribution\n",
        "unique_train, counts_train = np.unique(y_train, return_counts=True)\n",
        "unique_test, counts_test = np.unique(y_test, return_counts=True)\n",
        "\n",
        "print(\"Class distribution in training set:\", dict(zip(unique_train, counts_train)))\n",
        "print(\"Class distribution in test set:\", dict(zip(unique_test, counts_test)))\n"
      ],
      "metadata": {
        "colab": {
          "base_uri": "https://localhost:8080/"
        },
        "id": "vM2E62ZPApTz",
        "outputId": "72832bc7-0105-409e-c1f0-b3ebfbb291ba"
      },
      "execution_count": 17,
      "outputs": [
        {
          "output_type": "stream",
          "name": "stdout",
          "text": [
            "Class distribution in training set: {0.0: 3671, 1.0: 3665}\n",
            "Class distribution in test set: {0.0: 914, 1.0: 920}\n"
          ]
        }
      ]
    },
    {
      "cell_type": "markdown",
      "source": [
        "Considering the class distribution and the evaluation metrics, it seems that the model is performing well. There is no significant class imbalance in the dataset, and the precision, recall, and F1-score are all high."
      ],
      "metadata": {
        "id": "5M3GcxxuA3nm"
      }
    },
    {
      "cell_type": "code",
      "source": [
        "from sklearn.metrics import classification_report\n",
        "\n",
        "# Predict the test labels\n",
        "y_pred = model.predict(X_test)\n",
        "y_pred_classes = (y_pred > 0.5).astype(int)\n",
        "\n",
        "# Calculate and print the classification report\n",
        "report = classification_report(y_test, y_pred_classes, target_names=['Healthy', 'Diseased'])\n",
        "print(report)\n"
      ],
      "metadata": {
        "colab": {
          "base_uri": "https://localhost:8080/"
        },
        "id": "3ghFUjOOAu8I",
        "outputId": "fff22d05-69de-4895-90c6-4498840ef3fc"
      },
      "execution_count": 18,
      "outputs": [
        {
          "output_type": "stream",
          "name": "stdout",
          "text": [
            "58/58 [==============================] - 1s 9ms/step\n",
            "              precision    recall  f1-score   support\n",
            "\n",
            "     Healthy       1.00      1.00      1.00       914\n",
            "    Diseased       1.00      1.00      1.00       920\n",
            "\n",
            "    accuracy                           1.00      1834\n",
            "   macro avg       1.00      1.00      1.00      1834\n",
            "weighted avg       1.00      1.00      1.00      1834\n",
            "\n"
          ]
        }
      ]
    },
    {
      "cell_type": "code",
      "source": [
        "from sklearn.model_selection import KFold\n",
        "from tensorflow.keras.models import clone_model\n",
        "\n",
        "def train_and_evaluate_model(X_train, y_train, X_val, y_val):\n",
        "    # Create and compile a new instance of the model\n",
        "    model = Sequential()\n",
        "    model.add(LSTM(50, input_shape=(X_train.shape[1], X_train.shape[2]), return_sequences=True))\n",
        "    model.add(Dropout(0.2))\n",
        "    model.add(LSTM(50))\n",
        "    model.add(Dropout(0.2))\n",
        "    model.add(Dense(1, activation='sigmoid'))\n",
        "    model.compile(optimizer='adam', loss='binary_crossentropy', metrics=['accuracy'])\n",
        "\n",
        "    # Train the model\n",
        "    early_stopping = EarlyStopping(monitor='val_loss', patience=5)\n",
        "    model.fit(X_train, y_train, validation_data=(X_val, y_val), epochs=10, batch_size=32, callbacks=[early_stopping], verbose=0)\n",
        "\n",
        "    # Evaluate the model\n",
        "    loss, accuracy = model.evaluate(X_val, y_val, verbose=0)\n",
        "    return accuracy\n",
        "\n",
        "# Combine the train and test sets for cross-validation\n",
        "X = np.concatenate((X_train, X_test), axis=0)\n",
        "y = np.concatenate((y_train, y_test), axis=0)\n",
        "\n",
        "# Define the number of folds for cross-validation\n",
        "num_folds = 5\n",
        "kfold = KFold(n_splits=num_folds, shuffle=True, random_state=42)\n",
        "\n",
        "# Run cross-validation\n",
        "cv_accuracies = []\n",
        "for train_index, val_index in kfold.split(X, y):\n",
        "    X_train_fold, X_val_fold = X[train_index], X[val_index]\n",
        "    y_train_fold, y_val_fold = y[train_index], y[val_index]\n",
        "\n",
        "    fold_accuracy = train_and_evaluate_model(X_train_fold, y_train_fold, X_val_fold, y_val_fold)\n",
        "    cv_accuracies.append(fold_accuracy)\n",
        "\n",
        "# Calculate and print the average accuracy across all folds\n",
        "avg_accuracy = np.mean(cv_accuracies)\n",
        "print(f\"Average accuracy across {num_folds}-fold cross-validation: {avg_accuracy}\")\n"
      ],
      "metadata": {
        "colab": {
          "base_uri": "https://localhost:8080/"
        },
        "id": "iIWuFCafB-Ir",
        "outputId": "77d123cd-a762-4a1c-958a-657fe225f1aa"
      },
      "execution_count": 19,
      "outputs": [
        {
          "output_type": "stream",
          "name": "stdout",
          "text": [
            "Average accuracy across 5-fold cross-validation: 0.9202835321426391\n"
          ]
        }
      ]
    },
    {
      "cell_type": "markdown",
      "source": [
        "With the updated class distribution, the model's performance appears more reasonable. The class distribution in both the training and test sets is now nearly balanced, which is an improvement compared to the original data.\n",
        "\n",
        "The test set's precision, recall, and f1-score for both classes are still very close to 1.00, indicating that the model performs well on both classes. However, the 5-fold cross-validation accuracy is lower at 92.03%, which is more consistent with real-world expectations for a classification task like this. The cross-validation result provides a better estimate of the model's performance on unseen data, as it accounts for variability in the dataset by training and evaluating the model on different subsets of the data.\n",
        "\n",
        "In summary, the use of undersampling and cross-validation has led to a more balanced class distribution and a more robust evaluation of the model's performance. While the test set's accuracy is still very high, the cross-validation accuracy provides a more realistic estimate of the model's generalization performance."
      ],
      "metadata": {
        "id": "jAQcI7FZIMfS"
      }
    }
  ]
}