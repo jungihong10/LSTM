{
  "nbformat": 4,
  "nbformat_minor": 0,
  "metadata": {
    "colab": {
      "provenance": [],
      "authorship_tag": "ABX9TyMjwW8xb7kU/8XkF2O19P3j",
      "include_colab_link": true
    },
    "kernelspec": {
      "name": "python3",
      "display_name": "Python 3"
    },
    "language_info": {
      "name": "python"
    },
    "accelerator": "GPU",
    "gpuClass": "standard"
  },
  "cells": [
    {
      "cell_type": "markdown",
      "metadata": {
        "id": "view-in-github",
        "colab_type": "text"
      },
      "source": [
        "<a href=\"https://colab.research.google.com/github/jungihong10/LSTM/blob/main/lstm_v3.ipynb\" target=\"_parent\"><img src=\"https://colab.research.google.com/assets/colab-badge.svg\" alt=\"Open In Colab\"/></a>"
      ]
    },
    {
      "cell_type": "code",
      "execution_count": 1,
      "metadata": {
        "colab": {
          "base_uri": "https://localhost:8080/"
        },
        "id": "yR90UTu1MmYw",
        "outputId": "62bd047b-31e4-4eb8-d865-db7241c7f3e5"
      },
      "outputs": [
        {
          "output_type": "stream",
          "name": "stdout",
          "text": [
            "Looking in indexes: https://pypi.org/simple, https://us-python.pkg.dev/colab-wheels/public/simple/\n",
            "Requirement already satisfied: tensorflow in /usr/local/lib/python3.10/dist-packages (2.12.0)\n",
            "Requirement already satisfied: jax>=0.3.15 in /usr/local/lib/python3.10/dist-packages (from tensorflow) (0.4.8)\n",
            "Requirement already satisfied: grpcio<2.0,>=1.24.3 in /usr/local/lib/python3.10/dist-packages (from tensorflow) (1.54.0)\n",
            "Requirement already satisfied: libclang>=13.0.0 in /usr/local/lib/python3.10/dist-packages (from tensorflow) (16.0.0)\n",
            "Requirement already satisfied: tensorflow-io-gcs-filesystem>=0.23.1 in /usr/local/lib/python3.10/dist-packages (from tensorflow) (0.32.0)\n",
            "Requirement already satisfied: tensorboard<2.13,>=2.12 in /usr/local/lib/python3.10/dist-packages (from tensorflow) (2.12.2)\n",
            "Requirement already satisfied: typing-extensions>=3.6.6 in /usr/local/lib/python3.10/dist-packages (from tensorflow) (4.5.0)\n",
            "Requirement already satisfied: numpy<1.24,>=1.22 in /usr/local/lib/python3.10/dist-packages (from tensorflow) (1.22.4)\n",
            "Requirement already satisfied: setuptools in /usr/local/lib/python3.10/dist-packages (from tensorflow) (67.7.2)\n",
            "Requirement already satisfied: google-pasta>=0.1.1 in /usr/local/lib/python3.10/dist-packages (from tensorflow) (0.2.0)\n",
            "Requirement already satisfied: gast<=0.4.0,>=0.2.1 in /usr/local/lib/python3.10/dist-packages (from tensorflow) (0.4.0)\n",
            "Requirement already satisfied: opt-einsum>=2.3.2 in /usr/local/lib/python3.10/dist-packages (from tensorflow) (3.3.0)\n",
            "Requirement already satisfied: flatbuffers>=2.0 in /usr/local/lib/python3.10/dist-packages (from tensorflow) (23.3.3)\n",
            "Requirement already satisfied: wrapt<1.15,>=1.11.0 in /usr/local/lib/python3.10/dist-packages (from tensorflow) (1.14.1)\n",
            "Requirement already satisfied: astunparse>=1.6.0 in /usr/local/lib/python3.10/dist-packages (from tensorflow) (1.6.3)\n",
            "Requirement already satisfied: packaging in /usr/local/lib/python3.10/dist-packages (from tensorflow) (23.1)\n",
            "Requirement already satisfied: h5py>=2.9.0 in /usr/local/lib/python3.10/dist-packages (from tensorflow) (3.8.0)\n",
            "Requirement already satisfied: absl-py>=1.0.0 in /usr/local/lib/python3.10/dist-packages (from tensorflow) (1.4.0)\n",
            "Requirement already satisfied: keras<2.13,>=2.12.0 in /usr/local/lib/python3.10/dist-packages (from tensorflow) (2.12.0)\n",
            "Requirement already satisfied: tensorflow-estimator<2.13,>=2.12.0 in /usr/local/lib/python3.10/dist-packages (from tensorflow) (2.12.0)\n",
            "Requirement already satisfied: termcolor>=1.1.0 in /usr/local/lib/python3.10/dist-packages (from tensorflow) (2.3.0)\n",
            "Requirement already satisfied: six>=1.12.0 in /usr/local/lib/python3.10/dist-packages (from tensorflow) (1.16.0)\n",
            "Requirement already satisfied: protobuf!=4.21.0,!=4.21.1,!=4.21.2,!=4.21.3,!=4.21.4,!=4.21.5,<5.0.0dev,>=3.20.3 in /usr/local/lib/python3.10/dist-packages (from tensorflow) (3.20.3)\n",
            "Requirement already satisfied: wheel<1.0,>=0.23.0 in /usr/local/lib/python3.10/dist-packages (from astunparse>=1.6.0->tensorflow) (0.40.0)\n",
            "Requirement already satisfied: ml-dtypes>=0.0.3 in /usr/local/lib/python3.10/dist-packages (from jax>=0.3.15->tensorflow) (0.1.0)\n",
            "Requirement already satisfied: scipy>=1.7 in /usr/local/lib/python3.10/dist-packages (from jax>=0.3.15->tensorflow) (1.10.1)\n",
            "Requirement already satisfied: markdown>=2.6.8 in /usr/local/lib/python3.10/dist-packages (from tensorboard<2.13,>=2.12->tensorflow) (3.4.3)\n",
            "Requirement already satisfied: requests<3,>=2.21.0 in /usr/local/lib/python3.10/dist-packages (from tensorboard<2.13,>=2.12->tensorflow) (2.27.1)\n",
            "Requirement already satisfied: tensorboard-data-server<0.8.0,>=0.7.0 in /usr/local/lib/python3.10/dist-packages (from tensorboard<2.13,>=2.12->tensorflow) (0.7.0)\n",
            "Requirement already satisfied: google-auth-oauthlib<1.1,>=0.5 in /usr/local/lib/python3.10/dist-packages (from tensorboard<2.13,>=2.12->tensorflow) (1.0.0)\n",
            "Requirement already satisfied: tensorboard-plugin-wit>=1.6.0 in /usr/local/lib/python3.10/dist-packages (from tensorboard<2.13,>=2.12->tensorflow) (1.8.1)\n",
            "Requirement already satisfied: werkzeug>=1.0.1 in /usr/local/lib/python3.10/dist-packages (from tensorboard<2.13,>=2.12->tensorflow) (2.3.0)\n",
            "Requirement already satisfied: google-auth<3,>=1.6.3 in /usr/local/lib/python3.10/dist-packages (from tensorboard<2.13,>=2.12->tensorflow) (2.17.3)\n",
            "Requirement already satisfied: rsa<5,>=3.1.4 in /usr/local/lib/python3.10/dist-packages (from google-auth<3,>=1.6.3->tensorboard<2.13,>=2.12->tensorflow) (4.9)\n",
            "Requirement already satisfied: cachetools<6.0,>=2.0.0 in /usr/local/lib/python3.10/dist-packages (from google-auth<3,>=1.6.3->tensorboard<2.13,>=2.12->tensorflow) (5.3.0)\n",
            "Requirement already satisfied: pyasn1-modules>=0.2.1 in /usr/local/lib/python3.10/dist-packages (from google-auth<3,>=1.6.3->tensorboard<2.13,>=2.12->tensorflow) (0.3.0)\n",
            "Requirement already satisfied: requests-oauthlib>=0.7.0 in /usr/local/lib/python3.10/dist-packages (from google-auth-oauthlib<1.1,>=0.5->tensorboard<2.13,>=2.12->tensorflow) (1.3.1)\n",
            "Requirement already satisfied: urllib3<1.27,>=1.21.1 in /usr/local/lib/python3.10/dist-packages (from requests<3,>=2.21.0->tensorboard<2.13,>=2.12->tensorflow) (1.26.15)\n",
            "Requirement already satisfied: idna<4,>=2.5 in /usr/local/lib/python3.10/dist-packages (from requests<3,>=2.21.0->tensorboard<2.13,>=2.12->tensorflow) (3.4)\n",
            "Requirement already satisfied: certifi>=2017.4.17 in /usr/local/lib/python3.10/dist-packages (from requests<3,>=2.21.0->tensorboard<2.13,>=2.12->tensorflow) (2022.12.7)\n",
            "Requirement already satisfied: charset-normalizer~=2.0.0 in /usr/local/lib/python3.10/dist-packages (from requests<3,>=2.21.0->tensorboard<2.13,>=2.12->tensorflow) (2.0.12)\n",
            "Requirement already satisfied: MarkupSafe>=2.1.1 in /usr/local/lib/python3.10/dist-packages (from werkzeug>=1.0.1->tensorboard<2.13,>=2.12->tensorflow) (2.1.2)\n",
            "Requirement already satisfied: pyasn1<0.6.0,>=0.4.6 in /usr/local/lib/python3.10/dist-packages (from pyasn1-modules>=0.2.1->google-auth<3,>=1.6.3->tensorboard<2.13,>=2.12->tensorflow) (0.5.0)\n",
            "Requirement already satisfied: oauthlib>=3.0.0 in /usr/local/lib/python3.10/dist-packages (from requests-oauthlib>=0.7.0->google-auth-oauthlib<1.1,>=0.5->tensorboard<2.13,>=2.12->tensorflow) (3.2.2)\n"
          ]
        }
      ],
      "source": [
        "!pip install tensorflow"
      ]
    },
    {
      "cell_type": "code",
      "source": [
        "import os\n",
        "\n",
        "import numpy as np\n",
        "import pandas as pd\n",
        "import tensorflow as tf\n",
        "from sklearn.model_selection import train_test_split\n",
        "from sklearn.preprocessing import MinMaxScaler\n",
        "from keras.models import Sequential\n",
        "from keras.layers import Dense, LSTM, Dropout\n",
        "from keras.optimizers import Adam\n",
        "from keras.callbacks import EarlyStopping\n",
        "\n",
        "import matplotlib.pyplot as plt\n",
        "from sklearn.metrics import confusion_matrix\n",
        "import seaborn as sns\n",
        "import random\n",
        "import csv"
      ],
      "metadata": {
        "id": "j4Nq9uAXMrsD"
      },
      "execution_count": 2,
      "outputs": []
    },
    {
      "cell_type": "code",
      "source": [
        "from google.colab import drive\n",
        "drive.mount('/content/drive')"
      ],
      "metadata": {
        "colab": {
          "base_uri": "https://localhost:8080/"
        },
        "id": "2MFoQ85lMtQc",
        "outputId": "d4415b1d-7ec0-4f11-813f-07ca6bd763d3"
      },
      "execution_count": 3,
      "outputs": [
        {
          "output_type": "stream",
          "name": "stdout",
          "text": [
            "Mounted at /content/drive\n"
          ]
        }
      ]
    },
    {
      "cell_type": "markdown",
      "source": [
        "The data is already preprocessed\n",
        "\n",
        "*   removed unused Co2 (avg, max, min) columns\n",
        "*   check for empty values\n",
        "*   check for odd values (too big/too small)\n",
        "\n"
      ],
      "metadata": {
        "id": "7lTbj4CWEpsz"
      }
    },
    {
      "cell_type": "code",
      "source": [
        "healthy_folder = '/content/drive/MyDrive/n_dataprepro/'\n",
        "diseased_folder = '/content/drive/MyDrive/d_dataprepro/'\n"
      ],
      "metadata": {
        "id": "1laaK7VHa2h_"
      },
      "execution_count": 4,
      "outputs": []
    },
    {
      "cell_type": "markdown",
      "source": [
        "split the datafram into chunks of 200 rows each and then export each group of 200 rows as a single csv."
      ],
      "metadata": {
        "id": "C_UEtsYcEhTH"
      }
    },
    {
      "cell_type": "code",
      "source": [
        "from sklearn.preprocessing import MinMaxScaler\n",
        "from sklearn.model_selection import train_test_split\n",
        "import os\n",
        "import pandas as pd\n",
        "import numpy as np\n",
        "from keras.models import Sequential\n",
        "from keras.layers import LSTM, Dropout, Dense\n",
        "from keras.callbacks import EarlyStopping\n",
        "import random\n",
        "\n",
        "\n",
        "def create_sequences_from_list(data_list, seq_length, scaler):\n",
        "    sequences = []\n",
        "    labels = []\n",
        "\n",
        "    for data in data_list:\n",
        "        unscaled_labels = data[:, -1]  # Store the original labels before scaling\n",
        "        #scaled_data = scaler.fit_transform(data)\n",
        "        #sequences.append(scaled_data[:seq_length, :-1])\n",
        "        sequences.append(data[:seq_length, :-1])\n",
        "\n",
        "        labels.append(unscaled_labels[0])  # Use the original unscaled label\n",
        "\n",
        "    return np.array(sequences), np.array(labels)\n",
        "\n",
        "\n",
        "def read_csv_files(folder_path, label):\n",
        "    data_list = []\n",
        "    for file in os.listdir(folder_path):\n",
        "        file_path = os.path.join(folder_path, file)\n",
        "        df = pd.read_csv(file_path)\n",
        "        if len(df) >= 200:  # Filter out files with less than 200 readings\n",
        "            df[\"label\"] = label\n",
        "            data_list.append(df.values[:200, :])  # Truncate to 200 rows and convert DataFrame to NumPy array\n",
        "    return data_list\n",
        "\n",
        "\n",
        "healthy_folder = '/content/drive/MyDrive/n_dataprepro/'\n",
        "diseased_folder = '/content/drive/MyDrive/d_dataprepro/'\n",
        "\n",
        "# Read and label the CSV files\n",
        "healthy_data_list = read_csv_files(healthy_folder, 0)\n",
        "diseased_data_list = read_csv_files(diseased_folder, 1)\n",
        "\n",
        "all_data_list = healthy_data_list + diseased_data_list\n",
        "random.shuffle(all_data_list)\n",
        "\n",
        "# Scale the data\n",
        "scaler = MinMaxScaler()\n",
        "\n",
        "# Create sequences\n",
        "seq_length = 200\n",
        "X, y = create_sequences_from_list(all_data_list, seq_length, scaler)\n",
        "\n",
        "# Train-test split\n",
        "X_train, X_test, y_train, y_test = train_test_split(X, y, test_size=0.2, random_state=42)\n"
      ],
      "metadata": {
        "id": "avevEpOxJXwc"
      },
      "execution_count": 46,
      "outputs": []
    },
    {
      "cell_type": "code",
      "source": [
        "\n",
        "# Create the LSTM model\n",
        "model = Sequential()\n",
        "model.add(LSTM(50, input_shape=(X_train.shape[1], X_train.shape[2]), return_sequences=True))\n",
        "model.add(Dropout(0.2))\n",
        "model.add(LSTM(50))\n",
        "model.add(Dropout(0.2))\n",
        "model.add(Dense(1, activation='sigmoid'))\n",
        "\n",
        "# Compile the model\n",
        "model.compile(optimizer='adam', loss='binary_crossentropy', metrics=['accuracy'])\n",
        "\n",
        "# Train the model\n",
        "early_stopping = EarlyStopping(monitor='val_loss', patience=5)\n",
        "history = model.fit(X_train, y_train, validation_split=0.2, epochs=10, batch_size=32, callbacks=[early_stopping])\n",
        "\n",
        "# Evaluate the model\n",
        "loss, accuracy = model.evaluate(X_test, y_test)\n",
        "print(\"Test loss:\", loss)\n",
        "print(\"Test accuracy:\", accuracy)"
      ],
      "metadata": {
        "id": "raOGNY3KGybm",
        "colab": {
          "base_uri": "https://localhost:8080/"
        },
        "outputId": "be98dd41-9aad-4741-86fd-d8b184e508f0"
      },
      "execution_count": 60,
      "outputs": [
        {
          "output_type": "stream",
          "name": "stdout",
          "text": [
            "Epoch 1/10\n",
            "191/191 [==============================] - 9s 26ms/step - loss: 0.1530 - accuracy: 0.9377 - val_loss: 0.0271 - val_accuracy: 0.9987\n",
            "Epoch 2/10\n",
            "191/191 [==============================] - 4s 19ms/step - loss: 0.0302 - accuracy: 0.9918 - val_loss: 0.0059 - val_accuracy: 0.9987\n",
            "Epoch 3/10\n",
            "191/191 [==============================] - 3s 16ms/step - loss: 0.0329 - accuracy: 0.9920 - val_loss: 0.0067 - val_accuracy: 0.9987\n",
            "Epoch 4/10\n",
            "191/191 [==============================] - 3s 16ms/step - loss: 0.0150 - accuracy: 0.9961 - val_loss: 0.0017 - val_accuracy: 1.0000\n",
            "Epoch 5/10\n",
            "191/191 [==============================] - 4s 19ms/step - loss: 0.0321 - accuracy: 0.9905 - val_loss: 0.0125 - val_accuracy: 0.9987\n",
            "Epoch 6/10\n",
            "191/191 [==============================] - 4s 20ms/step - loss: 0.0096 - accuracy: 0.9970 - val_loss: 0.0048 - val_accuracy: 0.9987\n",
            "Epoch 7/10\n",
            "191/191 [==============================] - 3s 16ms/step - loss: 0.0012 - accuracy: 0.9998 - val_loss: 2.8389e-04 - val_accuracy: 1.0000\n",
            "Epoch 8/10\n",
            "191/191 [==============================] - 3s 16ms/step - loss: 3.8349e-04 - accuracy: 1.0000 - val_loss: 1.9901e-04 - val_accuracy: 1.0000\n",
            "Epoch 9/10\n",
            "191/191 [==============================] - 3s 17ms/step - loss: 3.1998e-04 - accuracy: 1.0000 - val_loss: 1.5363e-04 - val_accuracy: 1.0000\n",
            "Epoch 10/10\n",
            "191/191 [==============================] - 4s 21ms/step - loss: 2.1902e-04 - accuracy: 1.0000 - val_loss: 1.2137e-04 - val_accuracy: 1.0000\n",
            "60/60 [==============================] - 0s 7ms/step - loss: 1.2395e-04 - accuracy: 1.0000\n",
            "Test loss: 0.00012394650548230857\n",
            "Test accuracy: 1.0\n"
          ]
        }
      ]
    },
    {
      "cell_type": "code",
      "source": [
        "print(\"X shape:\", X_train.shape)\n",
        "print(\"y shape:\", y_train.shape)\n"
      ],
      "metadata": {
        "colab": {
          "base_uri": "https://localhost:8080/"
        },
        "id": "11H9ulptNfaq",
        "outputId": "6a62e11b-2acf-42d6-b315-b9e2e0b97154"
      },
      "execution_count": 48,
      "outputs": [
        {
          "output_type": "stream",
          "name": "stdout",
          "text": [
            "X shape: (7621, 200, 9)\n",
            "y shape: (7621,)\n"
          ]
        }
      ]
    },
    {
      "cell_type": "code",
      "source": [
        "print(\"X_train shape:\", X)\n"
      ],
      "metadata": {
        "colab": {
          "base_uri": "https://localhost:8080/"
        },
        "id": "tUET60ZRKRRi",
        "outputId": "a7c41adb-dbbb-4b65-c924-59db9b61ca33"
      },
      "execution_count": 40,
      "outputs": [
        {
          "output_type": "stream",
          "name": "stdout",
          "text": [
            "X_train shape: [[[0.58333333 0.57407407 0.58823529 ... 0.51020408 0.55769231 0.33333333]\n",
            "  [0.62179487 0.61728395 0.62091503 ... 0.55102041 0.59615385 0.41176471]\n",
            "  [0.66025641 0.64197531 0.66666667 ... 0.55102041 0.55769231 0.47058824]\n",
            "  ...\n",
            "  [0.01282051 0.01851852 0.0130719  ... 0.20408163 0.30769231 0.19607843]\n",
            "  [0.02564103 0.0308642  0.02614379 ... 0.36734694 0.30769231 0.39215686]\n",
            "  [0.02564103 0.0308642  0.03267974 ... 0.36734694 0.30769231 0.39215686]]\n",
            "\n",
            " [[0.7721519  0.93491124 0.99206349 ... 0.38938053 0.91111111 0.47286822]\n",
            "  [0.91772152 0.92899408 0.96825397 ... 1.         0.8962963  0.59689922]\n",
            "  [0.84177215 0.91715976 0.92063492 ... 0.7699115  0.84444444 0.52713178]\n",
            "  ...\n",
            "  [0.10126582 0.07692308 0.26190476 ... 0.36283186 0.13333333 0.72093023]\n",
            "  [0.23417722 0.44378698 0.21428571 ... 0.40707965 0.27407407 0.52713178]\n",
            "  [0.15822785 0.14201183 0.31746032 ... 0.42477876 0.2        0.78294574]]\n",
            "\n",
            " [[0.55913978 0.55102041 0.55555556 ... 0.57918552 0.5720524  0.58558559]\n",
            "  [0.61827957 0.59693878 0.62777778 ... 0.58371041 0.5720524  0.60810811]\n",
            "  [0.65591398 0.62244898 0.66666667 ... 0.57918552 0.56768559 0.59459459]\n",
            "  ...\n",
            "  [0.06451613 0.07142857 0.05555556 ... 0.33936652 0.33187773 0.34684685]\n",
            "  [0.02688172 0.03061224 0.02777778 ... 0.30769231 0.28384279 0.34684685]\n",
            "  [0.         0.         0.         ... 0.28506787 0.28384279 0.3018018 ]]\n",
            "\n",
            " ...\n",
            "\n",
            " [[0.490625   0.18213457 0.92050209 ... 0.31612903 0.1183432  0.76439791]\n",
            "  [0.515625   0.19489559 0.94560669 ... 0.33870968 0.11242604 0.84816754]\n",
            "  [0.540625   0.21693735 0.9623431  ... 0.32580645 0.1183432  0.78534031]\n",
            "  ...\n",
            "  [0.36875    0.13573086 0.47698745 ... 0.29677419 0.10177515 0.55497382]\n",
            "  [0.5125     0.60208817 0.46861925 ... 0.49354839 0.61183432 0.53926702]\n",
            "  [0.178125   0.12993039 0.46861925 ... 0.12258065 0.09940828 0.03141361]]\n",
            "\n",
            " [[0.7721519  0.93491124 0.99206349 ... 0.38938053 0.91111111 0.47286822]\n",
            "  [0.91772152 0.92899408 0.96825397 ... 1.         0.8962963  0.59689922]\n",
            "  [0.84177215 0.91715976 0.92063492 ... 0.7699115  0.84444444 0.52713178]\n",
            "  ...\n",
            "  [0.10126582 0.07692308 0.26190476 ... 0.36283186 0.13333333 0.72093023]\n",
            "  [0.23417722 0.44378698 0.21428571 ... 0.40707965 0.27407407 0.52713178]\n",
            "  [0.15822785 0.14201183 0.31746032 ... 0.42477876 0.2        0.78294574]]\n",
            "\n",
            " [[0.49479167 0.47783251 0.50543478 ... 0.         0.         0.        ]\n",
            "  [0.52604167 0.50738916 0.53804348 ... 0.02283105 0.         0.0412844 ]\n",
            "  [0.5625     0.53694581 0.56521739 ... 0.03196347 0.02272727 0.02293578]\n",
            "  ...\n",
            "  [0.01041667 0.00985222 0.01086957 ... 0.25570776 0.20909091 0.28899083]\n",
            "  [0.015625   0.00985222 0.01086957 ... 0.25570776 0.20909091 0.28899083]\n",
            "  [0.015625   0.01477833 0.01630435 ... 0.25570776 0.20909091 0.27981651]]]\n"
          ]
        }
      ]
    },
    {
      "cell_type": "code",
      "source": [
        "print(\"y_train shape:\", y)\n"
      ],
      "metadata": {
        "colab": {
          "base_uri": "https://localhost:8080/"
        },
        "id": "WfExHcWbOeS7",
        "outputId": "5f8871a5-782c-4669-b37a-cbdb6b003c82"
      },
      "execution_count": 50,
      "outputs": [
        {
          "output_type": "stream",
          "name": "stdout",
          "text": [
            "y_train shape: [1. 1. 0. ... 1. 1. 1.]\n"
          ]
        }
      ]
    },
    {
      "cell_type": "markdown",
      "source": [
        "While an accuracy of 0.9999454617500305 may seem very high, it is possible to achieve such a high accuracy on a binary classification task if the dataset is highly imbalanced and the model is overfitting the training data.\n",
        "\n",
        "In your case, it is possible that the dataset has a very high proportion of one class compared to the other, and the model may be simply predicting the majority class for most of the test samples. This can result in a high accuracy score that does not necessarily reflect the model's true performance.\n",
        "\n",
        "To confirm whether the accuracy score is reliable, it is important to evaluate the model using other performance metrics such as precision, recall, and F1-score, as well as visualizing the confusion matrix. These metrics can give you a better understanding of the model's performance and help identify any issues with the model's predictions.\n",
        "\n",
        "It is also a good practice to use techniques such as cross-validation and regularization to prevent overfitting and ensure that the model's performance is not just limited to the specific training data used."
      ],
      "metadata": {
        "id": "nYYjFaUbQJVp"
      }
    },
    {
      "cell_type": "code",
      "source": [
        "from sklearn.metrics import confusion_matrix\n",
        "import matplotlib.pyplot as plt\n",
        "\n",
        "# Predict on test data\n",
        "y_pred = model.predict(X_test)\n",
        "y_pred = (y_pred > 0.5)\n",
        "\n",
        "# Calculate confusion matrix\n",
        "cm = confusion_matrix(y_test, y_pred)\n",
        "\n",
        "# Define class names\n",
        "class_names = ['Diseased', 'Healthy']\n",
        "\n",
        "# Plot confusion matrix\n",
        "plt.imshow(cm, cmap=plt.cm.Blues)\n",
        "plt.title('Confusion Matrix')\n",
        "plt.colorbar()\n",
        "tick_marks = np.arange(len(class_names))\n",
        "plt.xticks(tick_marks, class_names, rotation=45)\n",
        "plt.yticks(tick_marks, class_names)\n",
        "plt.xlabel('Predicted')\n",
        "plt.ylabel('True')\n",
        "plt.tight_layout()\n",
        "for i in range(len(class_names)):\n",
        "    for j in range(len(class_names)):\n",
        "        plt.text(j, i, format(cm[i, j], 'd'), horizontalalignment=\"center\", color=\"white\" if cm[i, j] > (cm.max() / 2) else \"black\")\n",
        "plt.show()\n"
      ],
      "metadata": {
        "colab": {
          "base_uri": "https://localhost:8080/",
          "height": 505
        },
        "id": "JX0KO7r9PAxc",
        "outputId": "81086901-68df-407f-d23c-a23d919fd09d"
      },
      "execution_count": 61,
      "outputs": [
        {
          "output_type": "stream",
          "name": "stdout",
          "text": [
            "60/60 [==============================] - 1s 8ms/step\n"
          ]
        },
        {
          "output_type": "display_data",
          "data": {
            "text/plain": [
              "<Figure size 640x480 with 2 Axes>"
            ],
            "image/png": "[encoded data removed]"
          },
          "metadata": {}
        }
      ]
    },
    {
      "cell_type": "code",
      "source": [
        "from sklearn.metrics import precision_recall_fscore_support\n",
        "\n",
        "# Predict on test data\n",
        "y_pred = model.predict(X_test)\n",
        "y_pred = (y_pred > 0.5)\n",
        "\n",
        "# Calculate precision, recall, F1-score, and support\n",
        "precision, recall, f1_score, support = precision_recall_fscore_support(y_test, y_pred)\n",
        "\n",
        "# Print the results\n",
        "print('Precision:', precision)\n",
        "print('Recall:', recall)\n",
        "print('F1-score:', f1_score)\n",
        "print('Support:', support)\n"
      ],
      "metadata": {
        "colab": {
          "base_uri": "https://localhost:8080/"
        },
        "id": "HDwRYE8TPsfQ",
        "outputId": "6ba06825-e7e6-49d4-a8d7-9819c16d9291"
      },
      "execution_count": 59,
      "outputs": [
        {
          "output_type": "stream",
          "name": "stdout",
          "text": [
            "60/60 [==============================] - 0s 8ms/step\n",
            "Precision: [1.         0.99782609]\n",
            "Recall: [0.99797571 1.        ]\n",
            "F1-score: [0.99898683 0.99891186]\n",
            "Support: [988 918]\n"
          ]
        }
      ]
    },
    {
      "cell_type": "markdown",
      "source": [
        "Testing the model out using separate test cases."
      ],
      "metadata": {
        "id": "wE-uSnlSM9SR"
      }
    },
    {
      "cell_type": "code",
      "source": [
        "def preprocess_single_file(file_path, seq_length):\n",
        "    df = pd.read_csv(file_path)\n",
        "    df[\"label\"] = 0  # Add a dummy label column\n",
        "    data = df.values[:seq_length, :]  # Truncate to seq_length rows if needed\n",
        "    #scaled_data = scaler.transform(data)\n",
        "    #X = np.array([scaled_data[:, :-1]])  # Create a 3D array with just one sample\n",
        "    X = np.array([data[:, :-1]])  # Create a 3D array with just one sample\n",
        "\n",
        "    return X\n",
        "\n",
        "def status(x):\n",
        "    if x > 0.5:\n",
        "        print(\"Unhealthy\")\n",
        "    else:\n",
        "        print(\"Healthy\")\n",
        "# Example usage:\n",
        "\n",
        "sample_file_path = \"/content/drive/MyDrive/d_data_test/preprocessed_d_605916.csv\"\n",
        "seq_length = 200\n",
        "\n",
        "X_sample = preprocess_single_file(sample_file_path, seq_length)\n",
        "\n",
        "# Predict on the sample file\n",
        "y_sample_pred = model.predict(X_sample)\n",
        "print(y_sample_pred[0])\n",
        "\n",
        "# Print the result\n",
        "status(y_sample_pred[0])\n",
        "\n",
        "\n",
        "\n"
      ],
      "metadata": {
        "colab": {
          "base_uri": "https://localhost:8080/"
        },
        "id": "OBRcWPFcGKuB",
        "outputId": "fe4e3ee0-dcf4-484e-bc69-15b1d281447a"
      },
      "execution_count": 62,
      "outputs": [
        {
          "output_type": "stream",
          "name": "stdout",
          "text": [
            "1/1 [==============================] - 0s 23ms/step\n",
            "[0.99983466]\n",
            "Unhealthy\n"
          ]
        }
      ]
    },
    {
      "cell_type": "code",
      "source": [
        "# Example usage:\n",
        "\n",
        "sample_file_path = \"/content/drive/MyDrive/n_data_test/preprocessed_n_851866.csv\"\n",
        "seq_length = 200\n",
        "\n",
        "X_sample = preprocess_single_file(sample_file_path, seq_length)\n",
        "\n",
        "# Predict on the sample file\n",
        "y_sample_pred = model.predict(X_sample)\n",
        "\n",
        "# Print the result\n",
        "print(y_sample_pred[0])\n",
        "\n",
        "status(y_sample_pred[0])\n",
        "\n",
        "\n"
      ],
      "metadata": {
        "colab": {
          "base_uri": "https://localhost:8080/"
        },
        "id": "R2-Q3AhPHQqp",
        "outputId": "1e6aa216-b398-4637-e06d-589fa1d0a15c"
      },
      "execution_count": 63,
      "outputs": [
        {
          "output_type": "stream",
          "name": "stdout",
          "text": [
            "1/1 [==============================] - 0s 24ms/step\n",
            "[7.950573e-05]\n",
            "Healthy\n"
          ]
        }
      ]
    },
    {
      "cell_type": "markdown",
      "source": [],
      "metadata": {
        "id": "dRk-dziTBqig"
      }
    },
    {
      "cell_type": "markdown",
      "source": [
        "The arrays returned by the precision_recall_fscore_support function contain the precision, recall, F1-score, and support for each class in the binary classification problem.\n",
        "\n",
        "In your case, since you have a binary classification problem with two classes, the arrays have two elements each. The first element corresponds to the first class (i.e., diseased), and the second element corresponds to the second class (i.e., healthy).\n",
        "\n",
        "Here's what the numbers mean in your example:\n",
        "\n",
        "Precision: The precision for the first class (diseased) is 0.99998997, and the precision for the second class (healthy) is 0.99989589. Precision measures the proportion of true positives among all positive predictions. In other words, it measures how often the model correctly identifies a positive case.\n",
        "\n",
        "Recall: The recall for the first class is 0.99990641, and the recall for the second class is 0.99998884. Recall measures the proportion of true positives among all actual positives. In other words, it measures how often the model correctly identifies a positive case out of all the positive cases.\n",
        "\n",
        "F1-score: The F1-score for the first class is 0.99994819, and the F1-score for the second class is 0.99994236. F1-score is the harmonic mean of precision and recall, and is a way to balance the trade-off between precision and recall. It is a measure of the model's overall accuracy.\n",
        "\n",
        "Support: The support for the first class is 299181, and the support for the second class is 268920. Support is the number of samples for each class in the test set. It can be useful to know the support for each class to understand the dataset's balance or imbalance.\n",
        "\n",
        "Overall, these metrics suggest that your model is performing very well on the test data, with high precision, recall, and F1-score for both classes. However, it is important to remember that these metrics may not always tell the full story, and it is always a good idea to also check the confusion matrix and visually inspect some of the model's predictions to ensure that the model is making sensible decisions."
      ],
      "metadata": {
        "id": "D1WkucFzQMz5"
      }
    },
    {
      "cell_type": "code",
      "source": [
        "print(\"Number of samples in the test set:\", y_test.shape[0])\n"
      ],
      "metadata": {
        "colab": {
          "base_uri": "https://localhost:8080/",
          "height": 166
        },
        "id": "hI6LASfYA_x1",
        "outputId": "8e12372d-0ef1-474b-d14c-2a7fd9cb6465"
      },
      "execution_count": null,
      "outputs": [
        {
          "output_type": "error",
          "ename": "NameError",
          "evalue": "ignored",
          "traceback": [
            "\u001b[0;31m---------------------------------------------------------------------------\u001b[0m",
            "\u001b[0;31mNameError\u001b[0m                                 Traceback (most recent call last)",
            "\u001b[0;32m<ipython-input-2-63d1f3c406e1>\u001b[0m in \u001b[0;36m<cell line: 1>\u001b[0;34m()\u001b[0m\n\u001b[0;32m----> 1\u001b[0;31m \u001b[0mprint\u001b[0m\u001b[0;34m(\u001b[0m\u001b[0;34m\"Number of samples in the test set:\"\u001b[0m\u001b[0;34m,\u001b[0m \u001b[0my_test\u001b[0m\u001b[0;34m.\u001b[0m\u001b[0mshape\u001b[0m\u001b[0;34m[\u001b[0m\u001b[0;36m0\u001b[0m\u001b[0;34m]\u001b[0m\u001b[0;34m)\u001b[0m\u001b[0;34m\u001b[0m\u001b[0;34m\u001b[0m\u001b[0m\n\u001b[0m",
            "\u001b[0;31mNameError\u001b[0m: name 'y_test' is not defined"
          ]
        }
      ]
    },
    {
      "cell_type": "code",
      "source": [
        "from sklearn.metrics import confusion_matrix\n",
        "import seaborn as sns\n",
        "import matplotlib.pyplot as plt\n",
        "\n",
        "# Generate predictions\n",
        "y_pred = model.predict_classes(X_test)\n",
        "\n",
        "# Calculate confusion matrix\n",
        "cm = confusion_matrix(y_test, y_pred)\n",
        "\n",
        "# Plot confusion matrix\n",
        "plt.figure(figsize=(8, 6))\n",
        "sns.heatmap(cm, annot=True, fmt='d', cmap='Blues', cbar=False)\n",
        "plt.xlabel('Predicted')\n",
        "plt.ylabel('Actual')\n",
        "plt.title('Confusion Matrix')\n",
        "plt.show()"
      ],
      "metadata": {
        "colab": {
          "base_uri": "https://localhost:8080/",
          "height": 235
        },
        "id": "V1kWKd1lAvnG",
        "outputId": "ee2eb550-ad5e-4431-f75c-442e791b89b1"
      },
      "execution_count": null,
      "outputs": [
        {
          "output_type": "error",
          "ename": "NameError",
          "evalue": "ignored",
          "traceback": [
            "\u001b[0;31m---------------------------------------------------------------------------\u001b[0m",
            "\u001b[0;31mNameError\u001b[0m                                 Traceback (most recent call last)",
            "\u001b[0;32m<ipython-input-1-6374c030a661>\u001b[0m in \u001b[0;36m<cell line: 6>\u001b[0;34m()\u001b[0m\n\u001b[1;32m      4\u001b[0m \u001b[0;34m\u001b[0m\u001b[0m\n\u001b[1;32m      5\u001b[0m \u001b[0;31m# Generate predictions\u001b[0m\u001b[0;34m\u001b[0m\u001b[0;34m\u001b[0m\u001b[0m\n\u001b[0;32m----> 6\u001b[0;31m \u001b[0my_pred\u001b[0m \u001b[0;34m=\u001b[0m \u001b[0mmodel\u001b[0m\u001b[0;34m.\u001b[0m\u001b[0mpredict_classes\u001b[0m\u001b[0;34m(\u001b[0m\u001b[0mX_test\u001b[0m\u001b[0;34m)\u001b[0m\u001b[0;34m\u001b[0m\u001b[0;34m\u001b[0m\u001b[0m\n\u001b[0m\u001b[1;32m      7\u001b[0m \u001b[0;34m\u001b[0m\u001b[0m\n\u001b[1;32m      8\u001b[0m \u001b[0;31m# Calculate confusion matrix\u001b[0m\u001b[0;34m\u001b[0m\u001b[0;34m\u001b[0m\u001b[0m\n",
            "\u001b[0;31mNameError\u001b[0m: name 'model' is not defined"
          ]
        }
      ]
    }
  ]
}