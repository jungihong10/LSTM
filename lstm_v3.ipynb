{
  "nbformat": 4,
  "nbformat_minor": 0,
  "metadata": {
    "colab": {
      "provenance": [],
      "authorship_tag": "ABX9TyN0kyt7zrFXEKjM9dvqcGgt",
      "include_colab_link": true
    },
    "kernelspec": {
      "name": "python3",
      "display_name": "Python 3"
    },
    "language_info": {
      "name": "python"
    },
    "accelerator": "GPU",
    "gpuClass": "standard"
  },
  "cells": [
    {
      "cell_type": "markdown",
      "metadata": {
        "id": "view-in-github",
        "colab_type": "text"
      },
      "source": [
        "<a href=\"https://colab.research.google.com/github/jungihong10/LSTM/blob/main/lstm_v3.ipynb\" target=\"_parent\"><img src=\"https://colab.research.google.com/assets/colab-badge.svg\" alt=\"Open In Colab\"/></a>"
      ]
    },
    {
      "cell_type": "code",
      "execution_count": 2,
      "metadata": {
        "colab": {
          "base_uri": "https://localhost:8080/"
        },
        "id": "yR90UTu1MmYw",
        "outputId": "c03041aa-20d6-42bf-c336-48a212f7a0ff"
      },
      "outputs": [
        {
          "output_type": "stream",
          "name": "stdout",
          "text": [
            "Looking in indexes: https://pypi.org/simple, https://us-python.pkg.dev/colab-wheels/public/simple/\n",
            "Requirement already satisfied: tensorflow in /usr/local/lib/python3.10/dist-packages (2.12.0)\n",
            "Requirement already satisfied: six>=1.12.0 in /usr/local/lib/python3.10/dist-packages (from tensorflow) (1.16.0)\n",
            "Requirement already satisfied: packaging in /usr/local/lib/python3.10/dist-packages (from tensorflow) (23.1)\n",
            "Requirement already satisfied: termcolor>=1.1.0 in /usr/local/lib/python3.10/dist-packages (from tensorflow) (2.3.0)\n",
            "Requirement already satisfied: protobuf!=4.21.0,!=4.21.1,!=4.21.2,!=4.21.3,!=4.21.4,!=4.21.5,<5.0.0dev,>=3.20.3 in /usr/local/lib/python3.10/dist-packages (from tensorflow) (3.20.3)\n",
            "Requirement already satisfied: tensorflow-io-gcs-filesystem>=0.23.1 in /usr/local/lib/python3.10/dist-packages (from tensorflow) (0.32.0)\n",
            "Requirement already satisfied: absl-py>=1.0.0 in /usr/local/lib/python3.10/dist-packages (from tensorflow) (1.4.0)\n",
            "Requirement already satisfied: typing-extensions>=3.6.6 in /usr/local/lib/python3.10/dist-packages (from tensorflow) (4.5.0)\n",
            "Requirement already satisfied: setuptools in /usr/local/lib/python3.10/dist-packages (from tensorflow) (67.7.2)\n",
            "Requirement already satisfied: astunparse>=1.6.0 in /usr/local/lib/python3.10/dist-packages (from tensorflow) (1.6.3)\n",
            "Requirement already satisfied: google-pasta>=0.1.1 in /usr/local/lib/python3.10/dist-packages (from tensorflow) (0.2.0)\n",
            "Requirement already satisfied: numpy<1.24,>=1.22 in /usr/local/lib/python3.10/dist-packages (from tensorflow) (1.22.4)\n",
            "Requirement already satisfied: h5py>=2.9.0 in /usr/local/lib/python3.10/dist-packages (from tensorflow) (3.8.0)\n",
            "Requirement already satisfied: wrapt<1.15,>=1.11.0 in /usr/local/lib/python3.10/dist-packages (from tensorflow) (1.14.1)\n",
            "Requirement already satisfied: gast<=0.4.0,>=0.2.1 in /usr/local/lib/python3.10/dist-packages (from tensorflow) (0.4.0)\n",
            "Requirement already satisfied: libclang>=13.0.0 in /usr/local/lib/python3.10/dist-packages (from tensorflow) (16.0.0)\n",
            "Requirement already satisfied: jax>=0.3.15 in /usr/local/lib/python3.10/dist-packages (from tensorflow) (0.4.8)\n",
            "Requirement already satisfied: keras<2.13,>=2.12.0 in /usr/local/lib/python3.10/dist-packages (from tensorflow) (2.12.0)\n",
            "Requirement already satisfied: opt-einsum>=2.3.2 in /usr/local/lib/python3.10/dist-packages (from tensorflow) (3.3.0)\n",
            "Requirement already satisfied: tensorflow-estimator<2.13,>=2.12.0 in /usr/local/lib/python3.10/dist-packages (from tensorflow) (2.12.0)\n",
            "Requirement already satisfied: flatbuffers>=2.0 in /usr/local/lib/python3.10/dist-packages (from tensorflow) (23.3.3)\n",
            "Requirement already satisfied: grpcio<2.0,>=1.24.3 in /usr/local/lib/python3.10/dist-packages (from tensorflow) (1.54.0)\n",
            "Requirement already satisfied: tensorboard<2.13,>=2.12 in /usr/local/lib/python3.10/dist-packages (from tensorflow) (2.12.2)\n",
            "Requirement already satisfied: wheel<1.0,>=0.23.0 in /usr/local/lib/python3.10/dist-packages (from astunparse>=1.6.0->tensorflow) (0.40.0)\n",
            "Requirement already satisfied: ml-dtypes>=0.0.3 in /usr/local/lib/python3.10/dist-packages (from jax>=0.3.15->tensorflow) (0.1.0)\n",
            "Requirement already satisfied: scipy>=1.7 in /usr/local/lib/python3.10/dist-packages (from jax>=0.3.15->tensorflow) (1.10.1)\n",
            "Requirement already satisfied: google-auth-oauthlib<1.1,>=0.5 in /usr/local/lib/python3.10/dist-packages (from tensorboard<2.13,>=2.12->tensorflow) (1.0.0)\n",
            "Requirement already satisfied: google-auth<3,>=1.6.3 in /usr/local/lib/python3.10/dist-packages (from tensorboard<2.13,>=2.12->tensorflow) (2.17.3)\n",
            "Requirement already satisfied: tensorboard-data-server<0.8.0,>=0.7.0 in /usr/local/lib/python3.10/dist-packages (from tensorboard<2.13,>=2.12->tensorflow) (0.7.0)\n",
            "Requirement already satisfied: tensorboard-plugin-wit>=1.6.0 in /usr/local/lib/python3.10/dist-packages (from tensorboard<2.13,>=2.12->tensorflow) (1.8.1)\n",
            "Requirement already satisfied: requests<3,>=2.21.0 in /usr/local/lib/python3.10/dist-packages (from tensorboard<2.13,>=2.12->tensorflow) (2.27.1)\n",
            "Requirement already satisfied: markdown>=2.6.8 in /usr/local/lib/python3.10/dist-packages (from tensorboard<2.13,>=2.12->tensorflow) (3.4.3)\n",
            "Requirement already satisfied: werkzeug>=1.0.1 in /usr/local/lib/python3.10/dist-packages (from tensorboard<2.13,>=2.12->tensorflow) (2.3.0)\n",
            "Requirement already satisfied: cachetools<6.0,>=2.0.0 in /usr/local/lib/python3.10/dist-packages (from google-auth<3,>=1.6.3->tensorboard<2.13,>=2.12->tensorflow) (5.3.0)\n",
            "Requirement already satisfied: pyasn1-modules>=0.2.1 in /usr/local/lib/python3.10/dist-packages (from google-auth<3,>=1.6.3->tensorboard<2.13,>=2.12->tensorflow) (0.3.0)\n",
            "Requirement already satisfied: rsa<5,>=3.1.4 in /usr/local/lib/python3.10/dist-packages (from google-auth<3,>=1.6.3->tensorboard<2.13,>=2.12->tensorflow) (4.9)\n",
            "Requirement already satisfied: requests-oauthlib>=0.7.0 in /usr/local/lib/python3.10/dist-packages (from google-auth-oauthlib<1.1,>=0.5->tensorboard<2.13,>=2.12->tensorflow) (1.3.1)\n",
            "Requirement already satisfied: certifi>=2017.4.17 in /usr/local/lib/python3.10/dist-packages (from requests<3,>=2.21.0->tensorboard<2.13,>=2.12->tensorflow) (2022.12.7)\n",
            "Requirement already satisfied: charset-normalizer~=2.0.0 in /usr/local/lib/python3.10/dist-packages (from requests<3,>=2.21.0->tensorboard<2.13,>=2.12->tensorflow) (2.0.12)\n",
            "Requirement already satisfied: urllib3<1.27,>=1.21.1 in /usr/local/lib/python3.10/dist-packages (from requests<3,>=2.21.0->tensorboard<2.13,>=2.12->tensorflow) (1.26.15)\n",
            "Requirement already satisfied: idna<4,>=2.5 in /usr/local/lib/python3.10/dist-packages (from requests<3,>=2.21.0->tensorboard<2.13,>=2.12->tensorflow) (3.4)\n",
            "Requirement already satisfied: MarkupSafe>=2.1.1 in /usr/local/lib/python3.10/dist-packages (from werkzeug>=1.0.1->tensorboard<2.13,>=2.12->tensorflow) (2.1.2)\n",
            "Requirement already satisfied: pyasn1<0.6.0,>=0.4.6 in /usr/local/lib/python3.10/dist-packages (from pyasn1-modules>=0.2.1->google-auth<3,>=1.6.3->tensorboard<2.13,>=2.12->tensorflow) (0.5.0)\n",
            "Requirement already satisfied: oauthlib>=3.0.0 in /usr/local/lib/python3.10/dist-packages (from requests-oauthlib>=0.7.0->google-auth-oauthlib<1.1,>=0.5->tensorboard<2.13,>=2.12->tensorflow) (3.2.2)\n"
          ]
        }
      ],
      "source": [
        "!pip install tensorflow"
      ]
    },
    {
      "cell_type": "code",
      "source": [
        "import os\n",
        "\n",
        "import numpy as np\n",
        "import pandas as pd\n",
        "import tensorflow as tf\n",
        "from sklearn.model_selection import train_test_split\n",
        "from sklearn.preprocessing import MinMaxScaler\n",
        "from keras.models import Sequential\n",
        "from keras.layers import Dense, LSTM, Dropout\n",
        "from keras.optimizers import Adam\n",
        "from keras.callbacks import EarlyStopping\n",
        "\n",
        "import matplotlib.pyplot as plt\n",
        "from sklearn.metrics import confusion_matrix\n",
        "import seaborn as sns\n",
        "import random\n",
        "import csv"
      ],
      "metadata": {
        "id": "j4Nq9uAXMrsD"
      },
      "execution_count": 3,
      "outputs": []
    },
    {
      "cell_type": "code",
      "source": [
        "from google.colab import drive\n",
        "drive.mount('/content/drive')"
      ],
      "metadata": {
        "colab": {
          "base_uri": "https://localhost:8080/"
        },
        "id": "2MFoQ85lMtQc",
        "outputId": "e797a3c7-47f0-4791-ee08-2ccddb8f8799"
      },
      "execution_count": 4,
      "outputs": [
        {
          "output_type": "stream",
          "name": "stdout",
          "text": [
            "Mounted at /content/drive\n"
          ]
        }
      ]
    },
    {
      "cell_type": "markdown",
      "source": [
        "The data is already preprocessed\n",
        "\n",
        "*   removed unused Co2 (avg, max, min) columns\n",
        "*   check for empty values\n",
        "*   check for odd values (too big/too small)\n",
        "\n"
      ],
      "metadata": {
        "id": "7lTbj4CWEpsz"
      }
    },
    {
      "cell_type": "code",
      "source": [
        "healthy_folder = '/content/drive/MyDrive/n_dataprepro/'\n",
        "diseased_folder = '/content/drive/MyDrive/d_dataprepro/'\n"
      ],
      "metadata": {
        "id": "1laaK7VHa2h_"
      },
      "execution_count": 5,
      "outputs": []
    },
    {
      "cell_type": "markdown",
      "source": [
        "split the datafram into chunks of 200 rows each and then export each group of 200 rows as a single csv."
      ],
      "metadata": {
        "id": "C_UEtsYcEhTH"
      }
    },
    {
      "cell_type": "code",
      "source": [
        "from sklearn.preprocessing import MinMaxScaler\n",
        "from sklearn.model_selection import train_test_split\n",
        "import os\n",
        "import pandas as pd\n",
        "import numpy as np\n",
        "from keras.models import Sequential\n",
        "from keras.layers import LSTM, Dropout, Dense\n",
        "from keras.callbacks import EarlyStopping\n",
        "import random\n",
        "\n",
        "\n",
        "def create_sequences_from_list(data_list, seq_length):\n",
        "    sequences = []\n",
        "    labels = []\n",
        "\n",
        "    for data in data_list:\n",
        "        unscaled_labels = data[:, -1]  # Store the original labels before scaling\n",
        "        #scaled_data = scaler.fit_transform(data)\n",
        "        #sequences.append(scaled_data[:seq_length, :-1])\n",
        "        sequences.append(data[:seq_length, :-1])\n",
        "\n",
        "        labels.append(unscaled_labels[0])  # Use the original unscaled label\n",
        "\n",
        "    return np.array(sequences), np.array(labels)\n",
        "\n",
        "\n",
        "def read_csv_files(folder_path, label):\n",
        "    data_list = []\n",
        "    for file in os.listdir(folder_path):\n",
        "        file_path = os.path.join(folder_path, file)\n",
        "        df = pd.read_csv(file_path)\n",
        "        if len(df) >= 200:  # Filter out files with less than 200 readings\n",
        "            df[\"label\"] = label\n",
        "            data_list.append(df.values[:200, :])  # Truncate to 200 rows and convert DataFrame to NumPy array\n",
        "    return data_list\n",
        "\n",
        "\n",
        "healthy_folder = '/content/drive/MyDrive/n_dataprepro/'\n",
        "diseased_folder = '/content/drive/MyDrive/d_dataprepro/'\n",
        "\n",
        "# Read and label the CSV files\n",
        "healthy_data_list = read_csv_files(healthy_folder, 0)\n",
        "diseased_data_list = read_csv_files(diseased_folder, 1)\n",
        "\n",
        "all_data_list = healthy_data_list + diseased_data_list\n",
        "random.shuffle(all_data_list)\n",
        "\n",
        "# Scale the data\n",
        "#scaler = MinMaxScaler()\n",
        "\n",
        "# Create sequences\n",
        "seq_length = 200\n",
        "X, y = create_sequences_from_list(all_data_list, seq_length)\n",
        "\n",
        "# Train-test split\n",
        "X_train, X_test, y_train, y_test = train_test_split(X, y, test_size=0.2, random_state=42)\n"
      ],
      "metadata": {
        "id": "avevEpOxJXwc"
      },
      "execution_count": 8,
      "outputs": []
    },
    {
      "cell_type": "code",
      "source": [
        "\n",
        "# Create the LSTM model\n",
        "model = Sequential()\n",
        "model.add(LSTM(50, input_shape=(X_train.shape[1], X_train.shape[2]), return_sequences=True))\n",
        "model.add(Dropout(0.2))\n",
        "model.add(LSTM(50))\n",
        "model.add(Dropout(0.2))\n",
        "model.add(Dense(1, activation='sigmoid'))\n",
        "\n",
        "# Compile the model\n",
        "model.compile(optimizer='adam', loss='binary_crossentropy', metrics=['accuracy'])\n",
        "\n",
        "# Train the model\n",
        "early_stopping = EarlyStopping(monitor='val_loss', patience=5)\n",
        "history = model.fit(X_train, y_train, validation_split=0.2, epochs=10, batch_size=32, callbacks=[early_stopping])\n",
        "\n",
        "# Evaluate the model\n",
        "loss, accuracy = model.evaluate(X_test, y_test)\n",
        "print(\"Test loss:\", loss)\n",
        "print(\"Test accuracy:\", accuracy)"
      ],
      "metadata": {
        "id": "raOGNY3KGybm",
        "colab": {
          "base_uri": "https://localhost:8080/"
        },
        "outputId": "216987c3-aacb-4f82-9c78-96d7cf5e6b10"
      },
      "execution_count": 9,
      "outputs": [
        {
          "output_type": "stream",
          "name": "stdout",
          "text": [
            "Epoch 1/10\n",
            "191/191 [==============================] - 14s 20ms/step - loss: 0.2404 - accuracy: 0.9170 - val_loss: 0.0190 - val_accuracy: 0.9987\n",
            "Epoch 2/10\n",
            "191/191 [==============================] - 4s 18ms/step - loss: 0.0318 - accuracy: 0.9936 - val_loss: 0.0099 - val_accuracy: 0.9987\n",
            "Epoch 3/10\n",
            "191/191 [==============================] - 5s 27ms/step - loss: 0.0485 - accuracy: 0.9900 - val_loss: 0.0135 - val_accuracy: 0.9987\n",
            "Epoch 4/10\n",
            "191/191 [==============================] - 4s 23ms/step - loss: 0.0154 - accuracy: 0.9972 - val_loss: 0.0040 - val_accuracy: 0.9987\n",
            "Epoch 5/10\n",
            "191/191 [==============================] - 3s 16ms/step - loss: 0.0044 - accuracy: 0.9992 - val_loss: 8.4652e-04 - val_accuracy: 1.0000\n",
            "Epoch 6/10\n",
            "191/191 [==============================] - 4s 19ms/step - loss: 0.0491 - accuracy: 0.9847 - val_loss: 0.0195 - val_accuracy: 0.9987\n",
            "Epoch 7/10\n",
            "191/191 [==============================] - 3s 15ms/step - loss: 0.0137 - accuracy: 0.9977 - val_loss: 0.2980 - val_accuracy: 0.8366\n",
            "Epoch 8/10\n",
            "191/191 [==============================] - 3s 15ms/step - loss: 0.0668 - accuracy: 0.9798 - val_loss: 0.0062 - val_accuracy: 1.0000\n",
            "Epoch 9/10\n",
            "191/191 [==============================] - 3s 15ms/step - loss: 0.0049 - accuracy: 0.9997 - val_loss: 0.0015 - val_accuracy: 1.0000\n",
            "Epoch 10/10\n",
            "191/191 [==============================] - 4s 21ms/step - loss: 0.0019 - accuracy: 1.0000 - val_loss: 8.1438e-04 - val_accuracy: 1.0000\n",
            "60/60 [==============================] - 1s 8ms/step - loss: 8.2821e-04 - accuracy: 1.0000\n",
            "Test loss: 0.0008282141061499715\n",
            "Test accuracy: 1.0\n"
          ]
        }
      ]
    },
    {
      "cell_type": "code",
      "source": [
        "print(\"X shape:\", X_train.shape)\n",
        "print(\"y shape:\", y_train.shape)\n"
      ],
      "metadata": {
        "colab": {
          "base_uri": "https://localhost:8080/"
        },
        "id": "11H9ulptNfaq",
        "outputId": "cf447d49-e350-4831-a5b5-17fab7f25c1c"
      },
      "execution_count": 10,
      "outputs": [
        {
          "output_type": "stream",
          "name": "stdout",
          "text": [
            "X shape: (7620, 200, 9)\n",
            "y shape: (7620,)\n"
          ]
        }
      ]
    },
    {
      "cell_type": "code",
      "source": [
        "print(\"X_train shape:\", X)\n"
      ],
      "metadata": {
        "colab": {
          "base_uri": "https://localhost:8080/"
        },
        "id": "tUET60ZRKRRi",
        "outputId": "0f71f489-0466-48eb-c250-d1523fc83296"
      },
      "execution_count": 11,
      "outputs": [
        {
          "output_type": "stream",
          "name": "stdout",
          "text": [
            "X_train shape: [[[24.4 25.5 17.1 ... 14.1 19.2  6.2]\n",
            "  [24.5 25.5 17.4 ... 17.5 20.1 11.1]\n",
            "  [25.3 25.5 25.1 ... 14.9 19.2 12.3]\n",
            "  ...\n",
            "  [13.7 20.4 10.8 ... 11.  14.6  9.5]\n",
            "  [14.5 20.3 10.6 ... 11.7 15.7  9.3]\n",
            "  [12.5 20.3 10.6 ... 10.4 15.7  9.1]]\n",
            "\n",
            " [[22.1 23.7 21.1 ... 11.6 12.4 10.5]\n",
            "  [27.1 28.5 24.4 ... 19.9 25.  12.7]\n",
            "  [27.2 27.4 27.1 ... 22.8 22.8 22.8]\n",
            "  ...\n",
            "  [20.3 20.3 20.3 ... 19.4 19.4 19.4]\n",
            "  [20.3 20.3 20.2 ... 19.4 19.4 19.4]\n",
            "  [20.2 20.3 20.1 ... 19.4 19.4 19.4]]\n",
            "\n",
            " [[23.8 24.6 22.3 ... 16.1 18.7 14.2]\n",
            "  [23.2 24.2 21.3 ... 14.7 16.8 13. ]\n",
            "  [22.5 24.  20.5 ... 14.3 16.  13.2]\n",
            "  ...\n",
            "  [12.7 19.7 11.8 ... 11.3 13.5 10.9]\n",
            "  [13.7 19.6 12.1 ... 11.6 13.7 10.9]\n",
            "  [12.7 12.9 12.6 ... 11.8 11.9 11.6]]\n",
            "\n",
            " ...\n",
            "\n",
            " [[23.3 24.3 22.5 ... 16.1 17.5 14.9]\n",
            "  [24.1 25.4 23.1 ... 16.8 17.  16.5]\n",
            "  [24.9 27.3 23.5 ... 16.4 17.5 15.3]\n",
            "  ...\n",
            "  [19.4 20.3 11.9 ... 15.5 16.1 10.9]\n",
            "  [24.  60.5 11.7 ... 21.6 59.2 10.6]\n",
            "  [13.3 19.8 11.7 ... 10.1 15.9  0.9]]\n",
            "\n",
            " [[20.8 22.7 17.8 ... 14.2 17.5  8.7]\n",
            "  [21.  22.  19.6 ... 13.9 17.   6. ]\n",
            "  [21.2 21.5 20.  ... 15.5 16.5 12.8]\n",
            "  ...\n",
            "  [12.3 12.6 12.1 ... 11.5 12.2 11.1]\n",
            "  [13.  13.3 12.7 ... 12.1 12.1 12.1]\n",
            "  [13.7 14.1 13.4 ... 12.8 13.1 12.1]]\n",
            "\n",
            " [[20.7 21.  20.3 ...  3.7  4.6  2.4]\n",
            "  [21.  21.2 20.9 ...  4.8  5.   4.6]\n",
            "  [20.7 20.9 20.4 ...  4.8  5.4  3.3]\n",
            "  ...\n",
            "  [ 9.3  9.3  9.2 ...  8.6  8.6  8.6]\n",
            "  [ 9.3  9.3  9.3 ...  8.6  8.6  8.6]\n",
            "  [ 9.3  9.3  9.3 ...  8.6  8.6  8.4]]]\n"
          ]
        }
      ]
    },
    {
      "cell_type": "code",
      "source": [
        "print(\"y_train shape:\", y)\n"
      ],
      "metadata": {
        "colab": {
          "base_uri": "https://localhost:8080/"
        },
        "id": "WfExHcWbOeS7",
        "outputId": "ddfb0531-f95a-4cd7-a56c-540dacf8bb64"
      },
      "execution_count": 12,
      "outputs": [
        {
          "output_type": "stream",
          "name": "stdout",
          "text": [
            "y_train shape: [0. 1. 0. ... 0. 0. 1.]\n"
          ]
        }
      ]
    },
    {
      "cell_type": "code",
      "source": [
        "from sklearn.metrics import confusion_matrix\n",
        "import matplotlib.pyplot as plt\n",
        "\n",
        "# Predict on test data\n",
        "y_pred = model.predict(X_test)\n",
        "y_pred = (y_pred > 0.5)\n",
        "\n",
        "# Calculate confusion matrix\n",
        "cm = confusion_matrix(y_test, y_pred)\n",
        "\n",
        "# Define class names\n",
        "class_names = ['Diseased', 'Healthy']\n",
        "\n",
        "# Plot confusion matrix\n",
        "plt.imshow(cm, cmap=plt.cm.Blues)\n",
        "plt.title('Confusion Matrix')\n",
        "plt.colorbar()\n",
        "tick_marks = np.arange(len(class_names))\n",
        "plt.xticks(tick_marks, class_names, rotation=45)\n",
        "plt.yticks(tick_marks, class_names)\n",
        "plt.xlabel('Predicted')\n",
        "plt.ylabel('True')\n",
        "plt.tight_layout()\n",
        "for i in range(len(class_names)):\n",
        "    for j in range(len(class_names)):\n",
        "        plt.text(j, i, format(cm[i, j], 'd'), horizontalalignment=\"center\", color=\"white\" if cm[i, j] > (cm.max() / 2) else \"black\")\n",
        "plt.show()\n"
      ],
      "metadata": {
        "colab": {
          "base_uri": "https://localhost:8080/",
          "height": 504
        },
        "id": "JX0KO7r9PAxc",
        "outputId": "9785dce2-8c59-4693-e3aa-04d3dc045bc8"
      },
      "execution_count": 13,
      "outputs": [
        {
          "output_type": "stream",
          "name": "stdout",
          "text": [
            "60/60 [==============================] - 1s 8ms/step\n"
          ]
        },
        {
          "output_type": "display_data",
          "data": {
            "text/plain": [
              "<Figure size 640x480 with 2 Axes>"
            ],
            "image/png": "[encoded data removed]"
          },
          "metadata": {}
        }
      ]
    },
    {
      "cell_type": "code",
      "source": [
        "from sklearn.metrics import precision_recall_fscore_support\n",
        "\n",
        "# Predict on test data\n",
        "y_pred = model.predict(X_test)\n",
        "y_pred = (y_pred > 0.5)\n",
        "\n",
        "# Calculate precision, recall, F1-score, and support\n",
        "precision, recall, f1_score, support = precision_recall_fscore_support(y_test, y_pred)\n",
        "\n",
        "# Print the results\n",
        "print('Precision:', precision)\n",
        "print('Recall:', recall)\n",
        "print('F1-score:', f1_score)\n",
        "print('Support:', support)\n"
      ],
      "metadata": {
        "colab": {
          "base_uri": "https://localhost:8080/"
        },
        "id": "HDwRYE8TPsfQ",
        "outputId": "8b466182-9baa-469d-9b0b-5b213a85548c"
      },
      "execution_count": 14,
      "outputs": [
        {
          "output_type": "stream",
          "name": "stdout",
          "text": [
            "60/60 [==============================] - 1s 9ms/step\n",
            "Precision: [1. 1.]\n",
            "Recall: [1. 1.]\n",
            "F1-score: [1. 1.]\n",
            "Support: [1028  877]\n"
          ]
        }
      ]
    },
    {
      "cell_type": "markdown",
      "source": [
        "Testing the model out using separate test cases."
      ],
      "metadata": {
        "id": "wE-uSnlSM9SR"
      }
    },
    {
      "cell_type": "code",
      "source": [
        "def preprocess_single_file(file_path, seq_length):\n",
        "    df = pd.read_csv(file_path)\n",
        "    df[\"label\"] = 0  # Add a dummy label column\n",
        "    data = df.values[:seq_length, :]  # Truncate to seq_length rows if needed\n",
        "    #scaled_data = scaler.transform(data)\n",
        "    #X = np.array([scaled_data[:, :-1]])  # Create a 3D array with just one sample\n",
        "    X = np.array([data[:, :-1]])  # Create a 3D array with just one sample\n",
        "\n",
        "    return X\n",
        "\n",
        "def status(x):\n",
        "    if x > 0.5:\n",
        "        print(\"Unhealthy\")\n",
        "    else:\n",
        "        print(\"Healthy\")\n",
        "# Example usage:\n",
        "\n",
        "sample_file_path = \"/content/drive/MyDrive/d_data_test/preprocessed_d_605916.csv\"\n",
        "seq_length = 200\n",
        "\n",
        "X_sample = preprocess_single_file(sample_file_path, seq_length)\n",
        "\n",
        "# Predict on the sample file\n",
        "y_sample_pred = model.predict(X_sample)\n",
        "print(y_sample_pred[0])\n",
        "\n",
        "# Print the result\n",
        "status(y_sample_pred[0])\n",
        "\n",
        "\n",
        "\n"
      ],
      "metadata": {
        "colab": {
          "base_uri": "https://localhost:8080/"
        },
        "id": "OBRcWPFcGKuB",
        "outputId": "60a16f51-0d96-4b46-ebfa-5fd1906a532e"
      },
      "execution_count": 15,
      "outputs": [
        {
          "output_type": "stream",
          "name": "stdout",
          "text": [
            "1/1 [==============================] - 0s 26ms/step\n",
            "[0.99788517]\n",
            "Unhealthy\n"
          ]
        }
      ]
    },
    {
      "cell_type": "code",
      "source": [
        "# Example usage:\n",
        "\n",
        "sample_file_path = \"/content/drive/MyDrive/n_data_test/preprocessed_n_851866.csv\"\n",
        "seq_length = 200\n",
        "\n",
        "X_sample = preprocess_single_file(sample_file_path, seq_length)\n",
        "\n",
        "# Predict on the sample file\n",
        "y_sample_pred = model.predict(X_sample)\n",
        "\n",
        "# Print the result\n",
        "print(y_sample_pred[0])\n",
        "\n",
        "status(y_sample_pred[0])\n",
        "\n",
        "\n"
      ],
      "metadata": {
        "colab": {
          "base_uri": "https://localhost:8080/"
        },
        "id": "R2-Q3AhPHQqp",
        "outputId": "a4421760-c0fd-4695-8af5-f34720966b2f"
      },
      "execution_count": 16,
      "outputs": [
        {
          "output_type": "stream",
          "name": "stdout",
          "text": [
            "1/1 [==============================] - 0s 27ms/step\n",
            "[0.00039748]\n",
            "Healthy\n"
          ]
        }
      ]
    },
    {
      "cell_type": "code",
      "source": [
        "print(model.summary())"
      ],
      "metadata": {
        "colab": {
          "base_uri": "https://localhost:8080/"
        },
        "id": "Qe2XHarUveR_",
        "outputId": "4386a35c-6772-48a7-9ce2-06855459039e"
      },
      "execution_count": 17,
      "outputs": [
        {
          "output_type": "stream",
          "name": "stdout",
          "text": [
            "Model: \"sequential\"\n",
            "_________________________________________________________________\n",
            " Layer (type)                Output Shape              Param #   \n",
            "=================================================================\n",
            " lstm (LSTM)                 (None, 200, 50)           12000     \n",
            "                                                                 \n",
            " dropout (Dropout)           (None, 200, 50)           0         \n",
            "                                                                 \n",
            " lstm_1 (LSTM)               (None, 50)                20200     \n",
            "                                                                 \n",
            " dropout_1 (Dropout)         (None, 50)                0         \n",
            "                                                                 \n",
            " dense (Dense)               (None, 1)                 51        \n",
            "                                                                 \n",
            "=================================================================\n",
            "Total params: 32,251\n",
            "Trainable params: 32,251\n",
            "Non-trainable params: 0\n",
            "_________________________________________________________________\n",
            "None\n"
          ]
        }
      ]
    }
  ]
}