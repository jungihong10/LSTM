{
  "nbformat": 4,
  "nbformat_minor": 0,
  "metadata": {
    "colab": {
      "provenance": [],
      "authorship_tag": "ABX9TyPn3KH6fQSQMg099byPqogp",
      "include_colab_link": true
    },
    "kernelspec": {
      "name": "python3",
      "display_name": "Python 3"
    },
    "language_info": {
      "name": "python"
    },
    "accelerator": "GPU",
    "gpuClass": "standard"
  },
  "cells": [
    {
      "cell_type": "markdown",
      "metadata": {
        "id": "view-in-github",
        "colab_type": "text"
      },
      "source": [
        "<a href=\"https://colab.research.google.com/github/jungihong10/LSTM/blob/main/lstm_v2.ipynb\" target=\"_parent\"><img src=\"https://colab.research.google.com/assets/colab-badge.svg\" alt=\"Open In Colab\"/></a>"
      ]
    },
    {
      "cell_type": "code",
      "execution_count": 2,
      "metadata": {
        "colab": {
          "base_uri": "https://localhost:8080/"
        },
        "id": "yR90UTu1MmYw",
        "outputId": "bfc10fc6-ea52-442c-c302-f6ca0ee5bb09"
      },
      "outputs": [
        {
          "output_type": "stream",
          "name": "stdout",
          "text": [
            "Looking in indexes: https://pypi.org/simple, https://us-python.pkg.dev/colab-wheels/public/simple/\n",
            "Requirement already satisfied: tensorflow in /usr/local/lib/python3.9/dist-packages (2.12.0)\n",
            "Requirement already satisfied: libclang>=13.0.0 in /usr/local/lib/python3.9/dist-packages (from tensorflow) (16.0.0)\n",
            "Requirement already satisfied: absl-py>=1.0.0 in /usr/local/lib/python3.9/dist-packages (from tensorflow) (1.4.0)\n",
            "Requirement already satisfied: flatbuffers>=2.0 in /usr/local/lib/python3.9/dist-packages (from tensorflow) (23.3.3)\n",
            "Requirement already satisfied: opt-einsum>=2.3.2 in /usr/local/lib/python3.9/dist-packages (from tensorflow) (3.3.0)\n",
            "Requirement already satisfied: tensorboard<2.13,>=2.12 in /usr/local/lib/python3.9/dist-packages (from tensorflow) (2.12.2)\n",
            "Requirement already satisfied: numpy<1.24,>=1.22 in /usr/local/lib/python3.9/dist-packages (from tensorflow) (1.22.4)\n",
            "Requirement already satisfied: keras<2.13,>=2.12.0 in /usr/local/lib/python3.9/dist-packages (from tensorflow) (2.12.0)\n",
            "Requirement already satisfied: packaging in /usr/local/lib/python3.9/dist-packages (from tensorflow) (23.1)\n",
            "Requirement already satisfied: astunparse>=1.6.0 in /usr/local/lib/python3.9/dist-packages (from tensorflow) (1.6.3)\n",
            "Requirement already satisfied: termcolor>=1.1.0 in /usr/local/lib/python3.9/dist-packages (from tensorflow) (2.2.0)\n",
            "Requirement already satisfied: grpcio<2.0,>=1.24.3 in /usr/local/lib/python3.9/dist-packages (from tensorflow) (1.53.0)\n",
            "Requirement already satisfied: wrapt<1.15,>=1.11.0 in /usr/local/lib/python3.9/dist-packages (from tensorflow) (1.14.1)\n",
            "Requirement already satisfied: setuptools in /usr/local/lib/python3.9/dist-packages (from tensorflow) (67.7.1)\n",
            "Requirement already satisfied: gast<=0.4.0,>=0.2.1 in /usr/local/lib/python3.9/dist-packages (from tensorflow) (0.4.0)\n",
            "Requirement already satisfied: h5py>=2.9.0 in /usr/local/lib/python3.9/dist-packages (from tensorflow) (3.8.0)\n",
            "Requirement already satisfied: google-pasta>=0.1.1 in /usr/local/lib/python3.9/dist-packages (from tensorflow) (0.2.0)\n",
            "Requirement already satisfied: tensorflow-estimator<2.13,>=2.12.0 in /usr/local/lib/python3.9/dist-packages (from tensorflow) (2.12.0)\n",
            "Requirement already satisfied: jax>=0.3.15 in /usr/local/lib/python3.9/dist-packages (from tensorflow) (0.4.8)\n",
            "Requirement already satisfied: protobuf!=4.21.0,!=4.21.1,!=4.21.2,!=4.21.3,!=4.21.4,!=4.21.5,<5.0.0dev,>=3.20.3 in /usr/local/lib/python3.9/dist-packages (from tensorflow) (3.20.3)\n",
            "Requirement already satisfied: six>=1.12.0 in /usr/local/lib/python3.9/dist-packages (from tensorflow) (1.16.0)\n",
            "Requirement already satisfied: typing-extensions>=3.6.6 in /usr/local/lib/python3.9/dist-packages (from tensorflow) (4.5.0)\n",
            "Requirement already satisfied: tensorflow-io-gcs-filesystem>=0.23.1 in /usr/local/lib/python3.9/dist-packages (from tensorflow) (0.32.0)\n",
            "Requirement already satisfied: wheel<1.0,>=0.23.0 in /usr/local/lib/python3.9/dist-packages (from astunparse>=1.6.0->tensorflow) (0.40.0)\n",
            "Requirement already satisfied: ml-dtypes>=0.0.3 in /usr/local/lib/python3.9/dist-packages (from jax>=0.3.15->tensorflow) (0.1.0)\n",
            "Requirement already satisfied: scipy>=1.7 in /usr/local/lib/python3.9/dist-packages (from jax>=0.3.15->tensorflow) (1.10.1)\n",
            "Requirement already satisfied: markdown>=2.6.8 in /usr/local/lib/python3.9/dist-packages (from tensorboard<2.13,>=2.12->tensorflow) (3.4.3)\n",
            "Requirement already satisfied: tensorboard-data-server<0.8.0,>=0.7.0 in /usr/local/lib/python3.9/dist-packages (from tensorboard<2.13,>=2.12->tensorflow) (0.7.0)\n",
            "Requirement already satisfied: werkzeug>=1.0.1 in /usr/local/lib/python3.9/dist-packages (from tensorboard<2.13,>=2.12->tensorflow) (2.2.3)\n",
            "Requirement already satisfied: google-auth<3,>=1.6.3 in /usr/local/lib/python3.9/dist-packages (from tensorboard<2.13,>=2.12->tensorflow) (2.17.3)\n",
            "Requirement already satisfied: requests<3,>=2.21.0 in /usr/local/lib/python3.9/dist-packages (from tensorboard<2.13,>=2.12->tensorflow) (2.27.1)\n",
            "Requirement already satisfied: google-auth-oauthlib<1.1,>=0.5 in /usr/local/lib/python3.9/dist-packages (from tensorboard<2.13,>=2.12->tensorflow) (1.0.0)\n",
            "Requirement already satisfied: tensorboard-plugin-wit>=1.6.0 in /usr/local/lib/python3.9/dist-packages (from tensorboard<2.13,>=2.12->tensorflow) (1.8.1)\n",
            "Requirement already satisfied: rsa<5,>=3.1.4 in /usr/local/lib/python3.9/dist-packages (from google-auth<3,>=1.6.3->tensorboard<2.13,>=2.12->tensorflow) (4.9)\n",
            "Requirement already satisfied: cachetools<6.0,>=2.0.0 in /usr/local/lib/python3.9/dist-packages (from google-auth<3,>=1.6.3->tensorboard<2.13,>=2.12->tensorflow) (5.3.0)\n",
            "Requirement already satisfied: pyasn1-modules>=0.2.1 in /usr/local/lib/python3.9/dist-packages (from google-auth<3,>=1.6.3->tensorboard<2.13,>=2.12->tensorflow) (0.2.8)\n",
            "Requirement already satisfied: requests-oauthlib>=0.7.0 in /usr/local/lib/python3.9/dist-packages (from google-auth-oauthlib<1.1,>=0.5->tensorboard<2.13,>=2.12->tensorflow) (1.3.1)\n",
            "Requirement already satisfied: importlib-metadata>=4.4 in /usr/local/lib/python3.9/dist-packages (from markdown>=2.6.8->tensorboard<2.13,>=2.12->tensorflow) (6.4.1)\n",
            "Requirement already satisfied: certifi>=2017.4.17 in /usr/local/lib/python3.9/dist-packages (from requests<3,>=2.21.0->tensorboard<2.13,>=2.12->tensorflow) (2022.12.7)\n",
            "Requirement already satisfied: charset-normalizer~=2.0.0 in /usr/local/lib/python3.9/dist-packages (from requests<3,>=2.21.0->tensorboard<2.13,>=2.12->tensorflow) (2.0.12)\n",
            "Requirement already satisfied: idna<4,>=2.5 in /usr/local/lib/python3.9/dist-packages (from requests<3,>=2.21.0->tensorboard<2.13,>=2.12->tensorflow) (3.4)\n",
            "Requirement already satisfied: urllib3<1.27,>=1.21.1 in /usr/local/lib/python3.9/dist-packages (from requests<3,>=2.21.0->tensorboard<2.13,>=2.12->tensorflow) (1.26.15)\n",
            "Requirement already satisfied: MarkupSafe>=2.1.1 in /usr/local/lib/python3.9/dist-packages (from werkzeug>=1.0.1->tensorboard<2.13,>=2.12->tensorflow) (2.1.2)\n",
            "Requirement already satisfied: zipp>=0.5 in /usr/local/lib/python3.9/dist-packages (from importlib-metadata>=4.4->markdown>=2.6.8->tensorboard<2.13,>=2.12->tensorflow) (3.15.0)\n",
            "Requirement already satisfied: pyasn1<0.5.0,>=0.4.6 in /usr/local/lib/python3.9/dist-packages (from pyasn1-modules>=0.2.1->google-auth<3,>=1.6.3->tensorboard<2.13,>=2.12->tensorflow) (0.4.8)\n",
            "Requirement already satisfied: oauthlib>=3.0.0 in /usr/local/lib/python3.9/dist-packages (from requests-oauthlib>=0.7.0->google-auth-oauthlib<1.1,>=0.5->tensorboard<2.13,>=2.12->tensorflow) (3.2.2)\n"
          ]
        }
      ],
      "source": [
        "!pip install tensorflow"
      ]
    },
    {
      "cell_type": "code",
      "source": [
        "import os\n",
        "\n",
        "import numpy as np\n",
        "import pandas as pd\n",
        "import tensorflow as tf\n",
        "from sklearn.model_selection import train_test_split\n",
        "from sklearn.preprocessing import MinMaxScaler\n",
        "from keras.models import Sequential\n",
        "from keras.layers import Dense, LSTM, Dropout\n",
        "from keras.optimizers import Adam\n",
        "from keras.callbacks import EarlyStopping\n",
        "\n",
        "import matplotlib.pyplot as plt\n",
        "from sklearn.metrics import confusion_matrix\n",
        "import seaborn as sns\n",
        "import random\n",
        "import csv"
      ],
      "metadata": {
        "id": "j4Nq9uAXMrsD"
      },
      "execution_count": 3,
      "outputs": []
    },
    {
      "cell_type": "code",
      "source": [
        "from google.colab import drive\n",
        "drive.mount('/content/drive')"
      ],
      "metadata": {
        "colab": {
          "base_uri": "https://localhost:8080/"
        },
        "id": "2MFoQ85lMtQc",
        "outputId": "5c516ed5-b114-401f-9f46-00589c2062e7"
      },
      "execution_count": 4,
      "outputs": [
        {
          "output_type": "stream",
          "name": "stdout",
          "text": [
            "Mounted at /content/drive\n"
          ]
        }
      ]
    },
    {
      "cell_type": "code",
      "source": [
        "healthy_folder = '/content/drive/MyDrive/n_dataprepro/'\n",
        "diseased_folder = '/content/drive/MyDrive/d_dataprepro/'\n"
      ],
      "metadata": {
        "id": "1laaK7VHa2h_"
      },
      "execution_count": 5,
      "outputs": []
    },
    {
      "cell_type": "markdown",
      "source": [
        "//skipping this part (used to truncate rows)"
      ],
      "metadata": {
        "id": "LK5QbBTImnYc"
      }
    },
    {
      "cell_type": "code",
      "source": [
        "def pad_or_truncate(df, target_length):\n",
        "    if len(df) > target_length:\n",
        "        return df[:target_length]\n",
        "    elif len(df) < target_length:\n",
        "        return df.append([pd.Series(np.nan, index=df.columns) for _ in range(target_length - len(df))], ignore_index=True)\n",
        "    else:\n",
        "        return df\n",
        "\n",
        "\n",
        "def get_shortest_file_length(folder_path):\n",
        "    min_length = float('inf')\n",
        "    for file in os.listdir(folder_path):\n",
        "        file_path = os.path.join(folder_path, file)\n",
        "        df = pd.read_csv(file_path)\n",
        "        length = len(df)\n",
        "        if length < min_length:\n",
        "            min_length = length\n",
        "    return min_length\n",
        "\n",
        "def read_csv_files(folder_path, label, target_length):\n",
        "    data = []\n",
        "    for file in os.listdir(folder_path):\n",
        "        file_path = os.path.join(folder_path, file)\n",
        "        df = pd.read_csv(file_path)\n",
        "        df = pad_or_truncate(df, target_length)\n",
        "        df[\"label\"] = label\n",
        "        data.append(df)\n",
        "    return pd.concat(data)\n",
        "\n",
        "# Find the shortest length from both healthy and diseased folders\n",
        "min_length_healthy = get_shortest_file_length(healthy_folder)\n",
        "min_length_diseased = get_shortest_file_length(diseased_folder)\n",
        "target_length = min(min_length_healthy, min_length_diseased)\n",
        "\n",
        "# Read and label the CSV files with the modified read_csv_files function\n",
        "healthy_data = read_csv_files(healthy_folder, 0, target_length)\n",
        "diseased_data = read_csv_files(diseased_folder, 1, target_length)\n"
      ],
      "metadata": {
        "id": "V66rZuTIavLx"
      },
      "execution_count": null,
      "outputs": []
    },
    {
      "cell_type": "code",
      "source": [
        "\n",
        "def read_csv_files(folder_path, label):\n",
        "    data = []\n",
        "    for file in os.listdir(folder_path):\n",
        "        file_path = os.path.join(folder_path, file)\n",
        "        df = pd.read_csv(file_path)\n",
        "        df[\"label\"] = label\n",
        "        data.append(df)\n",
        "    return pd.concat(data)\n",
        "\n",
        "def create_sequences(data, seq_length):\n",
        "    sequences = []\n",
        "    labels = []\n",
        "    for i in range(len(data) - seq_length):\n",
        "        sequences.append(data[i:i + seq_length, :-1])\n",
        "        labels.append(data[i + seq_length - 1, -1])\n",
        "    return np.array(sequences), np.array(labels)\n",
        "\n",
        "# Folder paths\n",
        "healthy_folder = '/content/drive/MyDrive/n_dataprepro/'\n",
        "diseased_folder = '/content/drive/MyDrive/d_dataprepro/'\n",
        "\n",
        "# Read and label the CSV files\n",
        "healthy_data = read_csv_files(healthy_folder, 0)\n",
        "diseased_data = read_csv_files(diseased_folder, 1)\n",
        "\n",
        "# Concatenate healthy and diseased data\n",
        "all_data = pd.concat([healthy_data, diseased_data])\n",
        "\n",
        "# Scale the data\n",
        "scaler = MinMaxScaler()\n",
        "scaled_data = scaler.fit_transform(all_data)\n",
        "\n",
        "# Create sequences\n",
        "seq_length = 10\n",
        "X, y = create_sequences(scaled_data, seq_length)\n",
        "\n",
        "# Train-test split\n",
        "X_train, X_test, y_train, y_test = train_test_split(X, y, test_size=0.2, random_state=42)\n",
        "\n",
        "# Create the LSTM model\n",
        "model = Sequential()\n",
        "model.add(LSTM(50, input_shape=(X_train.shape[1], X_train.shape[2]), return_sequences=True))\n",
        "model.add(Dropout(0.2))\n",
        "model.add(LSTM(50))\n",
        "model.add(Dropout(0.2))\n",
        "model.add(Dense(1, activation='sigmoid'))\n",
        "\n",
        "# Compile the model\n",
        "model.compile(optimizer='adam', loss='binary_crossentropy', metrics=['accuracy'])\n",
        "\n",
        "# Train the model\n",
        "early_stopping = EarlyStopping(monitor='val_loss', patience=5)\n",
        "history = model.fit(X_train, y_train, validation_split=0.2, epochs=20, batch_size=32, callbacks=[early_stopping])\n",
        "\n",
        "# Evaluate the model\n",
        "_, accuracy = model.evaluate(X_test, y_test, verbose=0)\n",
        "print('Test accuracy:', accuracy)\n"
      ],
      "metadata": {
        "colab": {
          "base_uri": "https://localhost:8080/"
        },
        "id": "maa-ttI4PZDI",
        "outputId": "d647c660-bd5b-4b9f-d994-8c9e7d1f25cb"
      },
      "execution_count": 7,
      "outputs": [
        {
          "output_type": "stream",
          "name": "stdout",
          "text": [
            "Epoch 1/20\n",
            "56810/56810 [==============================] - 377s 6ms/step - loss: 0.0937 - accuracy: 0.9627 - val_loss: 0.0410 - val_accuracy: 0.9838\n",
            "Epoch 2/20\n",
            "56810/56810 [==============================] - 356s 6ms/step - loss: 0.0299 - accuracy: 0.9898 - val_loss: 0.0136 - val_accuracy: 0.9954\n",
            "Epoch 3/20\n",
            "56810/56810 [==============================] - 353s 6ms/step - loss: 0.0152 - accuracy: 0.9952 - val_loss: 0.0051 - val_accuracy: 0.9984\n",
            "Epoch 4/20\n",
            "56810/56810 [==============================] - 355s 6ms/step - loss: 0.0103 - accuracy: 0.9968 - val_loss: 0.0022 - val_accuracy: 0.9994\n",
            "Epoch 5/20\n",
            "56810/56810 [==============================] - 356s 6ms/step - loss: 0.0076 - accuracy: 0.9976 - val_loss: 0.0061 - val_accuracy: 0.9983\n",
            "Epoch 6/20\n",
            "56810/56810 [==============================] - 353s 6ms/step - loss: 0.0057 - accuracy: 0.9982 - val_loss: 0.0085 - val_accuracy: 0.9975\n",
            "Epoch 7/20\n",
            "56810/56810 [==============================] - 352s 6ms/step - loss: 0.0047 - accuracy: 0.9986 - val_loss: 0.0018 - val_accuracy: 0.9994\n",
            "Epoch 8/20\n",
            "56810/56810 [==============================] - 354s 6ms/step - loss: 0.0044 - accuracy: 0.9987 - val_loss: 0.0076 - val_accuracy: 0.9981\n",
            "Epoch 9/20\n",
            "56810/56810 [==============================] - 361s 6ms/step - loss: 0.0036 - accuracy: 0.9990 - val_loss: 0.0011 - val_accuracy: 0.9996\n",
            "Epoch 10/20\n",
            "56810/56810 [==============================] - 362s 6ms/step - loss: 0.0035 - accuracy: 0.9990 - val_loss: 7.6609e-04 - val_accuracy: 0.9998\n",
            "Epoch 11/20\n",
            "56810/56810 [==============================] - 356s 6ms/step - loss: 0.0031 - accuracy: 0.9991 - val_loss: 0.0014 - val_accuracy: 0.9995\n",
            "Epoch 12/20\n",
            "56810/56810 [==============================] - 358s 6ms/step - loss: 0.0026 - accuracy: 0.9992 - val_loss: 6.8520e-04 - val_accuracy: 0.9998\n",
            "Epoch 13/20\n",
            "56810/56810 [==============================] - 355s 6ms/step - loss: 0.0026 - accuracy: 0.9992 - val_loss: 4.6914e-04 - val_accuracy: 0.9999\n",
            "Epoch 14/20\n",
            "56810/56810 [==============================] - 358s 6ms/step - loss: 0.0023 - accuracy: 0.9993 - val_loss: 3.1617e-04 - val_accuracy: 0.9999\n",
            "Epoch 15/20\n",
            "56810/56810 [==============================] - 358s 6ms/step - loss: 0.0030 - accuracy: 0.9992 - val_loss: 0.0058 - val_accuracy: 0.9980\n",
            "Epoch 16/20\n",
            "56810/56810 [==============================] - 360s 6ms/step - loss: 0.0021 - accuracy: 0.9994 - val_loss: 6.1450e-04 - val_accuracy: 0.9998\n",
            "Epoch 17/20\n",
            "56810/56810 [==============================] - 360s 6ms/step - loss: 0.0020 - accuracy: 0.9994 - val_loss: 0.0033 - val_accuracy: 0.9991\n",
            "Epoch 18/20\n",
            "56810/56810 [==============================] - 359s 6ms/step - loss: 0.0018 - accuracy: 0.9995 - val_loss: 3.0333e-04 - val_accuracy: 0.9999\n",
            "Epoch 19/20\n",
            "56810/56810 [==============================] - 361s 6ms/step - loss: 0.0018 - accuracy: 0.9995 - val_loss: 4.3792e-04 - val_accuracy: 0.9999\n",
            "Epoch 20/20\n",
            "56810/56810 [==============================] - 358s 6ms/step - loss: 0.0018 - accuracy: 0.9995 - val_loss: 2.9933e-04 - val_accuracy: 0.9999\n",
            "Test accuracy: 0.9999454617500305\n"
          ]
        }
      ]
    },
    {
      "cell_type": "code",
      "source": [
        "print(\"X shape:\", X_train.shape)\n",
        "print(\"y shape:\", y_train.shape)\n"
      ],
      "metadata": {
        "colab": {
          "base_uri": "https://localhost:8080/"
        },
        "id": "11H9ulptNfaq",
        "outputId": "1137afe2-0ea0-4a26-9b6d-04289c362232"
      },
      "execution_count": 10,
      "outputs": [
        {
          "output_type": "stream",
          "name": "stdout",
          "text": [
            "X shape: (2272400, 10, 9)\n",
            "y shape: (2272400,)\n"
          ]
        }
      ]
    },
    {
      "cell_type": "code",
      "source": [
        "print(\"X_train shape:\", X)\n"
      ],
      "metadata": {
        "colab": {
          "base_uri": "https://localhost:8080/"
        },
        "id": "tUET60ZRKRRi",
        "outputId": "73e1815f-9500-4c7d-e073-5dee8374155f"
      },
      "execution_count": 11,
      "outputs": [
        {
          "output_type": "stream",
          "name": "stdout",
          "text": [
            "X_train shape: [[[0.58653846 0.29811715 0.55288462 ... 0.33333333 0.24591948 0.25872093]\n",
            "  [0.64182692 0.29707113 0.54567308 ... 0.5188172  0.2437432  0.30523256]\n",
            "  [0.61298077 0.29497908 0.53125    ... 0.44892473 0.23612622 0.27906977]\n",
            "  ...\n",
            "  [0.52644231 0.26150628 0.5        ... 0.33602151 0.20674646 0.27906977]\n",
            "  [0.53125    0.25627615 0.49759615 ... 0.35215054 0.19912949 0.29651163]\n",
            "  [0.52644231 0.24476987 0.50480769 ... 0.35752688 0.18389554 0.30523256]]\n",
            "\n",
            " [[0.64182692 0.29707113 0.54567308 ... 0.5188172  0.2437432  0.30523256]\n",
            "  [0.61298077 0.29497908 0.53125    ... 0.44892473 0.23612622 0.27906977]\n",
            "  [0.57692308 0.28974895 0.50240385 ... 0.40053763 0.22850925 0.27034884]\n",
            "  ...\n",
            "  [0.53125    0.25627615 0.49759615 ... 0.35215054 0.19912949 0.29651163]\n",
            "  [0.52644231 0.24476987 0.50480769 ... 0.35752688 0.18389554 0.30523256]\n",
            "  [0.54807692 0.24790795 0.51442308 ... 0.43010753 0.19368879 0.39244186]]\n",
            "\n",
            " [[0.61298077 0.29497908 0.53125    ... 0.44892473 0.23612622 0.27906977]\n",
            "  [0.57692308 0.28974895 0.50240385 ... 0.40053763 0.22850925 0.27034884]\n",
            "  [0.61057692 0.28661088 0.49519231 ... 0.47311828 0.2383025  0.27906977]\n",
            "  ...\n",
            "  [0.52644231 0.24476987 0.50480769 ... 0.35752688 0.18389554 0.30523256]\n",
            "  [0.54807692 0.24790795 0.51442308 ... 0.43010753 0.19368879 0.39244186]\n",
            "  [0.54326923 0.24372385 0.51923077 ... 0.41397849 0.19151251 0.38372093]]\n",
            "\n",
            " ...\n",
            "\n",
            " [[0.53605769 0.23430962 0.53605769 ... 0.48924731 0.20348205 0.51744186]\n",
            "  [0.54567308 0.24058577 0.54086538 ... 0.49462366 0.20130577 0.52906977]\n",
            "  [0.55769231 0.24476987 0.55528846 ... 0.50537634 0.21218716 0.52906977]\n",
            "  ...\n",
            "  [0.55769231 0.24372385 0.55528846 ... 0.51612903 0.218716   0.55232558]\n",
            "  [0.54567308 0.24058577 0.54326923 ... 0.5188172  0.21001088 0.56395349]\n",
            "  [0.53605769 0.23430962 0.53605769 ... 0.51612903 0.21436344 0.52906977]]\n",
            "\n",
            " [[0.54567308 0.24058577 0.54086538 ... 0.49462366 0.20130577 0.52906977]\n",
            "  [0.55769231 0.24476987 0.55528846 ... 0.50537634 0.21218716 0.52906977]\n",
            "  [0.55528846 0.24476987 0.55288462 ... 0.51075269 0.21436344 0.54069767]\n",
            "  ...\n",
            "  [0.54567308 0.24058577 0.54326923 ... 0.5188172  0.21001088 0.56395349]\n",
            "  [0.53605769 0.23430962 0.53605769 ... 0.51612903 0.21436344 0.52906977]\n",
            "  [0.53605769 0.23430962 0.53605769 ... 0.52419355 0.21545158 0.54069767]]\n",
            "\n",
            " [[0.55769231 0.24476987 0.55528846 ... 0.50537634 0.21218716 0.52906977]\n",
            "  [0.55528846 0.24476987 0.55288462 ... 0.51075269 0.21436344 0.54069767]\n",
            "  [0.55288462 0.2416318  0.55288462 ... 0.50268817 0.20565832 0.54069767]\n",
            "  ...\n",
            "  [0.53605769 0.23430962 0.53605769 ... 0.51612903 0.21436344 0.52906977]\n",
            "  [0.53605769 0.23430962 0.53605769 ... 0.52419355 0.21545158 0.54069767]\n",
            "  [0.52884615 0.23221757 0.52884615 ... 0.50806452 0.20674646 0.54651163]]]\n"
          ]
        }
      ]
    },
    {
      "cell_type": "code",
      "source": [
        "print(\"y_train shape:\", y)\n"
      ],
      "metadata": {
        "colab": {
          "base_uri": "https://localhost:8080/"
        },
        "id": "WfExHcWbOeS7",
        "outputId": "34690724-1c4b-40a7-e84f-9a28bb2f975a"
      },
      "execution_count": 12,
      "outputs": [
        {
          "output_type": "stream",
          "name": "stdout",
          "text": [
            "y_train shape: [0. 0. 0. ... 1. 1. 1.]\n"
          ]
        }
      ]
    },
    {
      "cell_type": "markdown",
      "source": [
        "While an accuracy of 0.9999454617500305 may seem very high, it is possible to achieve such a high accuracy on a binary classification task if the dataset is highly imbalanced and the model is overfitting the training data.\n",
        "\n",
        "In your case, it is possible that the dataset has a very high proportion of one class compared to the other, and the model may be simply predicting the majority class for most of the test samples. This can result in a high accuracy score that does not necessarily reflect the model's true performance.\n",
        "\n",
        "To confirm whether the accuracy score is reliable, it is important to evaluate the model using other performance metrics such as precision, recall, and F1-score, as well as visualizing the confusion matrix. These metrics can give you a better understanding of the model's performance and help identify any issues with the model's predictions.\n",
        "\n",
        "It is also a good practice to use techniques such as cross-validation and regularization to prevent overfitting and ensure that the model's performance is not just limited to the specific training data used."
      ],
      "metadata": {
        "id": "nYYjFaUbQJVp"
      }
    },
    {
      "cell_type": "code",
      "source": [
        "from sklearn.metrics import confusion_matrix\n",
        "import matplotlib.pyplot as plt\n",
        "\n",
        "# Predict on test data\n",
        "y_pred = model.predict(X_test)\n",
        "y_pred = (y_pred > 0.5)\n",
        "\n",
        "# Calculate confusion matrix\n",
        "cm = confusion_matrix(y_test, y_pred)\n",
        "\n",
        "# Define class names\n",
        "class_names = ['Diseased', 'Healthy']\n",
        "\n",
        "# Plot confusion matrix\n",
        "plt.imshow(cm, cmap=plt.cm.Blues)\n",
        "plt.title('Confusion Matrix')\n",
        "plt.colorbar()\n",
        "tick_marks = np.arange(len(class_names))\n",
        "plt.xticks(tick_marks, class_names, rotation=45)\n",
        "plt.yticks(tick_marks, class_names)\n",
        "plt.xlabel('Predicted')\n",
        "plt.ylabel('True')\n",
        "plt.tight_layout()\n",
        "for i in range(len(class_names)):\n",
        "    for j in range(len(class_names)):\n",
        "        plt.text(j, i, format(cm[i, j], 'd'), horizontalalignment=\"center\", color=\"white\" if cm[i, j] > (cm.max() / 2) else \"black\")\n",
        "plt.show()\n"
      ],
      "metadata": {
        "colab": {
          "base_uri": "https://localhost:8080/",
          "height": 504
        },
        "id": "JX0KO7r9PAxc",
        "outputId": "667fce5b-6550-41ac-f921-18462784aeac"
      },
      "execution_count": 13,
      "outputs": [
        {
          "output_type": "stream",
          "name": "stdout",
          "text": [
            "17754/17754 [==============================] - 59s 3ms/step\n"
          ]
        },
        {
          "output_type": "display_data",
          "data": {
            "text/plain": [
              "<Figure size 640x480 with 2 Axes>"
            ],
            "image/png": "[encoded data removed]"
          },
          "metadata": {}
        }
      ]
    },
    {
      "cell_type": "code",
      "source": [
        "from sklearn.metrics import precision_recall_fscore_support\n",
        "\n",
        "# Predict on test data\n",
        "y_pred = model.predict(X_test)\n",
        "y_pred = (y_pred > 0.5)\n",
        "\n",
        "# Calculate precision, recall, F1-score, and support\n",
        "precision, recall, f1_score, support = precision_recall_fscore_support(y_test, y_pred)\n",
        "\n",
        "# Print the results\n",
        "print('Precision:', precision)\n",
        "print('Recall:', recall)\n",
        "print('F1-score:', f1_score)\n",
        "print('Support:', support)\n"
      ],
      "metadata": {
        "colab": {
          "base_uri": "https://localhost:8080/"
        },
        "id": "HDwRYE8TPsfQ",
        "outputId": "55d9b470-1c59-46c7-a613-ccc79218dfef"
      },
      "execution_count": 14,
      "outputs": [
        {
          "output_type": "stream",
          "name": "stdout",
          "text": [
            "17754/17754 [==============================] - 47s 3ms/step\n",
            "Precision: [0.99998997 0.99989589]\n",
            "Recall: [0.99990641 0.99998884]\n",
            "F1-score: [0.99994819 0.99994236]\n",
            "Support: [299181 268920]\n"
          ]
        }
      ]
    },
    {
      "cell_type": "markdown",
      "source": [
        "The arrays returned by the precision_recall_fscore_support function contain the precision, recall, F1-score, and support for each class in the binary classification problem.\n",
        "\n",
        "In your case, since you have a binary classification problem with two classes, the arrays have two elements each. The first element corresponds to the first class (i.e., diseased), and the second element corresponds to the second class (i.e., healthy).\n",
        "\n",
        "Here's what the numbers mean in your example:\n",
        "\n",
        "Precision: The precision for the first class (diseased) is 0.99998997, and the precision for the second class (healthy) is 0.99989589. Precision measures the proportion of true positives among all positive predictions. In other words, it measures how often the model correctly identifies a positive case.\n",
        "\n",
        "Recall: The recall for the first class is 0.99990641, and the recall for the second class is 0.99998884. Recall measures the proportion of true positives among all actual positives. In other words, it measures how often the model correctly identifies a positive case out of all the positive cases.\n",
        "\n",
        "F1-score: The F1-score for the first class is 0.99994819, and the F1-score for the second class is 0.99994236. F1-score is the harmonic mean of precision and recall, and is a way to balance the trade-off between precision and recall. It is a measure of the model's overall accuracy.\n",
        "\n",
        "Support: The support for the first class is 299181, and the support for the second class is 268920. Support is the number of samples for each class in the test set. It can be useful to know the support for each class to understand the dataset's balance or imbalance.\n",
        "\n",
        "Overall, these metrics suggest that your model is performing very well on the test data, with high precision, recall, and F1-score for both classes. However, it is important to remember that these metrics may not always tell the full story, and it is always a good idea to also check the confusion matrix and visually inspect some of the model's predictions to ensure that the model is making sensible decisions."
      ],
      "metadata": {
        "id": "D1WkucFzQMz5"
      }
    }
  ]
}